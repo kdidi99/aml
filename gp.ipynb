{
  "nbformat": 4,
  "nbformat_minor": 0,
  "metadata": {
    "colab": {
      "name": "Untitled24.ipynb",
      "provenance": [],
      "authorship_tag": "ABX9TyMH9gzbe6I0NZ7nHg2x8s1e",
      "include_colab_link": true
    },
    "kernelspec": {
      "name": "python3",
      "display_name": "Python 3"
    },
    "language_info": {
      "name": "python"
    }
  },
  "cells": [
    {
      "cell_type": "markdown",
      "metadata": {
        "id": "view-in-github",
        "colab_type": "text"
      },
      "source": [
        "<a href=\"https://colab.research.google.com/github/kierandidi/ml_advanced_hd/blob/main/gp.ipynb\" target=\"_parent\"><img src=\"https://colab.research.google.com/assets/colab-badge.svg\" alt=\"Open In Colab\"/></a>"
      ]
    },
    {
      "cell_type": "markdown",
      "source": [
        "#Exercise sheet 6"
      ],
      "metadata": {
        "id": "ylpIlbngsbKV"
      }
    },
    {
      "cell_type": "markdown",
      "source": [
        "##1 GP Optimization of a Toy Problem"
      ],
      "metadata": {
        "id": "-htSB0r5sc-z"
      }
    },
    {
      "cell_type": "code",
      "source": [
        "!pip install Optunity GPy sobol sobol-seq"
      ],
      "metadata": {
        "colab": {
          "base_uri": "https://localhost:8080/"
        },
        "id": "HbmIuGCPsaIJ",
        "outputId": "a7d9e50f-30dd-4fff-dc54-64a6fbd46b37"
      },
      "execution_count": 1,
      "outputs": [
        {
          "output_type": "stream",
          "name": "stdout",
          "text": [
            "Looking in indexes: https://pypi.org/simple, https://us-python.pkg.dev/colab-wheels/public/simple/\n",
            "Collecting Optunity\n",
            "  Downloading Optunity-1.1.1.tar.gz (4.6 MB)\n",
            "\u001b[K     |████████████████████████████████| 4.6 MB 22.3 MB/s \n",
            "\u001b[?25hCollecting GPy\n",
            "  Downloading GPy-1.10.0.tar.gz (959 kB)\n",
            "\u001b[K     |████████████████████████████████| 959 kB 35.1 MB/s \n",
            "\u001b[?25hCollecting sobol\n",
            "  Downloading sobol-0.9.tar.gz (6.4 kB)\n",
            "Collecting sobol-seq\n",
            "  Downloading sobol_seq-0.2.0-py3-none-any.whl (9.2 kB)\n",
            "Requirement already satisfied: numpy>=1.7 in /usr/local/lib/python3.7/dist-packages (from GPy) (1.21.6)\n",
            "Requirement already satisfied: six in /usr/local/lib/python3.7/dist-packages (from GPy) (1.15.0)\n",
            "Collecting paramz>=0.9.0\n",
            "  Downloading paramz-0.9.5.tar.gz (71 kB)\n",
            "\u001b[K     |████████████████████████████████| 71 kB 5.1 MB/s \n",
            "\u001b[?25hRequirement already satisfied: cython>=0.29 in /usr/local/lib/python3.7/dist-packages (from GPy) (0.29.30)\n",
            "Requirement already satisfied: scipy>=1.3.0 in /usr/local/lib/python3.7/dist-packages (from GPy) (1.7.3)\n",
            "Requirement already satisfied: decorator>=4.0.10 in /usr/local/lib/python3.7/dist-packages (from paramz>=0.9.0->GPy) (4.4.2)\n",
            "Building wheels for collected packages: Optunity, GPy, paramz, sobol\n",
            "  Building wheel for Optunity (setup.py) ... \u001b[?25l\u001b[?25hdone\n",
            "  Created wheel for Optunity: filename=Optunity-1.1.1-py3-none-any.whl size=72032 sha256=5d29d9cf1d6aec0e27375460df9a8db3850530d69024a9ba8172be31660aefdd\n",
            "  Stored in directory: /root/.cache/pip/wheels/0d/0e/31/a4763ff822a20f88a61dd3bb1c8b78a8f25c605392fe956d07\n",
            "  Building wheel for GPy (setup.py) ... \u001b[?25l\u001b[?25hdone\n",
            "  Created wheel for GPy: filename=GPy-1.10.0-cp37-cp37m-linux_x86_64.whl size=2565121 sha256=cb22418a5f2dbcd0ff8cc40152f36d14206d58b540be1d1933ccc4ff62360a14\n",
            "  Stored in directory: /root/.cache/pip/wheels/f7/18/28/dd1ce0192a81b71a3b086fd952511d088b21e8359ea496860a\n",
            "  Building wheel for paramz (setup.py) ... \u001b[?25l\u001b[?25hdone\n",
            "  Created wheel for paramz: filename=paramz-0.9.5-py3-none-any.whl size=102566 sha256=0048c952c679de50ad7767b7f9949efde077a82eb68e04d1c830fd42f624f402\n",
            "  Stored in directory: /root/.cache/pip/wheels/c8/95/f5/ce28482da28162e6028c4b3a32c41d147395825b3cd62bc810\n",
            "  Building wheel for sobol (setup.py) ... \u001b[?25l\u001b[?25hdone\n",
            "  Created wheel for sobol: filename=sobol-0.9-py3-none-any.whl size=7925 sha256=dbbf17d885365a334e6fdb285672441a09bea94edf8c2a98b7251627b2b50f90\n",
            "  Stored in directory: /root/.cache/pip/wheels/0a/c1/07/ade158173d250d010973cd0e0592fb63e2a2ad3c96d45106e7\n",
            "Successfully built Optunity GPy paramz sobol\n",
            "Installing collected packages: paramz, sobol-seq, sobol, Optunity, GPy\n",
            "Successfully installed GPy-1.10.0 Optunity-1.1.1 paramz-0.9.5 sobol-0.9 sobol-seq-0.2.0\n"
          ]
        }
      ]
    },
    {
      "cell_type": "code",
      "source": [
        "import time\n",
        "import matplotlib.pyplot as plt\n",
        "import numpy as np\n",
        "import scipy.sparse\n",
        "import scipy.sparse.linalg\n",
        "import scipy.spatial\n",
        "import scipy.stats\n",
        "import math\n",
        "import sobol"
      ],
      "metadata": {
        "id": "GVLfx-aEs4l8"
      },
      "execution_count": 34,
      "outputs": []
    },
    {
      "cell_type": "code",
      "source": [
        "def func(x, y):\n",
        "  return x**2 - x + y**2 + y - (np.cos(2 * math.pi * (x - 0.5)) + np.cos(2 * math.pi * (y + 0.5))) + 2.5"
      ],
      "metadata": {
        "id": "A63OmtNttWVe"
      },
      "execution_count": 16,
      "outputs": []
    },
    {
      "cell_type": "code",
      "source": [
        "def toy_plot():\n",
        "  x = np.linspace(-6, 6, 100)\n",
        "  y = np.linspace(-6, 6, 100)\n",
        "  xx, yy = np.meshgrid(x, y, sparse=True)\n",
        "  z = func(xx,yy)\n",
        "  plt.imshow(z, extent =(-6,6,-6,6))\n",
        "  plt.colorbar()\n",
        "  plt.gca().set_aspect(1)\n",
        "  plt.xlabel(\"$x$\")\n",
        "  plt.ylabel(\"$y$\")\n",
        "  plt.title(\"toy function\")"
      ],
      "metadata": {
        "id": "o6IO1RZKtWXp"
      },
      "execution_count": 24,
      "outputs": []
    },
    {
      "cell_type": "code",
      "source": [
        "toy_plot()"
      ],
      "metadata": {
        "colab": {
          "base_uri": "https://localhost:8080/",
          "height": 295
        },
        "id": "9gglp5LHtWZs",
        "outputId": "5650b960-546c-44f6-a4f6-0b8eb6bdaa80"
      },
      "execution_count": 25,
      "outputs": [
        {
          "output_type": "display_data",
          "data": {
            "text/plain": [
              "<Figure size 432x288 with 2 Axes>"
            ],
            "image/png": "[encoded data removed]"
          },
          "metadata": {
            "needs_background": "light"
          }
        }
      ]
    },
    {
      "cell_type": "code",
      "source": [
        "#get random points in interval [-6,6]\n",
        "points_rand = np.random.rand(60,2)\n",
        "output = func(points_rand[:,0], points_rand[:,1])\n",
        "print(scipy.stats.describe(output))"
      ],
      "metadata": {
        "colab": {
          "base_uri": "https://localhost:8080/"
        },
        "id": "IHyFpHQu1JaS",
        "outputId": "d3188f5a-42c1-4b52-80b0-2b240430f774"
      },
      "execution_count": 31,
      "outputs": [
        {
          "output_type": "stream",
          "name": "stdout",
          "text": [
            "DescribeResult(nobs=60, minmax=(0.962191114776044, 5.682392487267582), mean=3.301108126243248, variance=1.2432913291673964, skewness=0.1283447180050109, kurtosis=-0.5790585159066137)\n"
          ]
        }
      ]
    },
    {
      "cell_type": "code",
      "source": [
        "sample_num = 30\n",
        "paramUpperLim = np.array([6,6])\n",
        "paramLowerLim = np.array([-6,-6])\n",
        "for i in range(sample_num):\n",
        "  x,y = sobol.i4_sobol(2,i)[0] * (paramUpperLim - paramLowerLim) +paramLowerLim"
      ],
      "metadata": {
        "id": "YAZl6pXV3QdT"
      },
      "execution_count": 35,
      "outputs": []
    },
    {
      "cell_type": "markdown",
      "source": [
        "##2 "
      ],
      "metadata": {
        "id": "IguDvKs9sdB7"
      }
    },
    {
      "cell_type": "code",
      "execution_count": null,
      "metadata": {
        "id": "ZcVcv4tLsX2a"
      },
      "outputs": [],
      "source": [
        "opt_print = lambda *args, **kwargs: None  # silence output\n",
        "\n",
        "\n",
        "# opt_print = print # for debugging\n",
        "\n",
        "def gaussian_kernel(data, sigma, max_distance):\n",
        "    \"\"\"Compute the gaussian kernel matrix.\n",
        "\n",
        "    :param data: data matrix\n",
        "    :param sigma: parameter sigma of the gaussian kernel\n",
        "    :return: gaussian kernel matrix\n",
        "    \"\"\"\n",
        "    assert len(data.shape) == 2\n",
        "    assert sigma > 0\n",
        "\n",
        "    factor = -0.5 / (sigma ** 2)\n",
        "    limit = np.exp(factor * max_distance ** 2)\n",
        "    # Find the pairwise squared distances and compute the Gaussian kernel.\n",
        "    K = []\n",
        "    for k in data:\n",
        "        d = np.exp(factor * np.sum((data - k) ** 2, axis=1))\n",
        "        d[d < limit] = 0.0  # truncate the Gaussian\n",
        "        d = scipy.sparse.csc_matrix(d[:, None])\n",
        "        K.append(d)\n",
        "    K = scipy.sparse.hstack(K)\n",
        "    return K\n",
        "\n",
        "\n",
        "def compute_alpha(train_x, train_y, tau, sigma, max_distance, verbose=False):\n",
        "    \"\"\"Compute the alpha vector of the ridge regressor.\n",
        "\n",
        "    :param train_x: training x data\n",
        "    :param train_y: training y data\n",
        "    :param tau: parameter tau of the ridge regressor\n",
        "    :param sigma: parameter sigma of the gaussian kernel\n",
        "    :param verbose: Print debugging information?\n",
        "    :return: alpha vector\n",
        "    \"\"\"\n",
        "    if verbose: print(\"Building input kernel matrix\")\n",
        "    K = gaussian_kernel(train_x, sigma, max_distance)\n",
        "    if verbose: print(\"Sparsity is: %.2f%%\" % (\n",
        "            float(100 * K.nnz) / (K.shape[0] * K.shape[1])))\n",
        "    M = K + tau * scipy.sparse.identity(train_x.shape[0])\n",
        "    y = scipy.sparse.csc_matrix(train_y[:, None])\n",
        "    if verbose: print(\"Solving sparse system\")\n",
        "    alpha = scipy.sparse.linalg.cg(M, train_y)\n",
        "    if verbose: print(\"Done computing alpha\")\n",
        "    return alpha[0]\n",
        "\n",
        "\n",
        "class KernelRidgeRegressor(object):\n",
        "    \"\"\"Kernel Ridge Regressor.\n",
        "    \"\"\"\n",
        "\n",
        "    def __init__(self, tau, sigma):\n",
        "        self.dim = None\n",
        "        self.train_x = None\n",
        "        self.alpha = None\n",
        "        self.mean_y = None\n",
        "        self.std_y = None\n",
        "        self.tau = tau\n",
        "        self.sigma = sigma\n",
        "        self.scale = -0.5 / sigma**2\n",
        "        self.max_distance = 4.0*sigma\n",
        "\n",
        "    def train(self, train_x, train_y, verbose=False):\n",
        "        \"\"\"Train the kernel ridge regressor.\n",
        "\n",
        "        :param train_x: training x data\n",
        "        :param train_y: training y data\n",
        "        \"\"\"\n",
        "        assert len(train_x.shape) == 2\n",
        "        assert len(train_y.shape) == 1\n",
        "        assert train_x.shape[0] == train_y.shape[0]\n",
        "\n",
        "        self.dim = train_x.shape[1]\n",
        "        self.train_x = train_x.astype(np.float32)\n",
        "        self.tree = scipy.spatial.cKDTree(self.train_x)\n",
        "\n",
        "        self.mean_y = train_y.mean()\n",
        "        self.std_y = train_y.std()\n",
        "        train_y_std = (train_y - self.mean_y) / self.std_y\n",
        "\n",
        "        self.alpha = compute_alpha(self.train_x, train_y_std, self.tau,\n",
        "                                   self.sigma, self.max_distance,\n",
        "                                   verbose=verbose)\n",
        "\n",
        "\n",
        "    def predict_single(self, pred_x):\n",
        "        \"\"\"Predict the value of a single instance.\n",
        "\n",
        "        :param pred_x: x data\n",
        "        :return: predicted value of pred_x\n",
        "        \"\"\"\n",
        "        assert len(pred_x.shape) == 1\n",
        "        assert pred_x.shape[0] == self.dim\n",
        "        indices = np.asarray(\n",
        "            self.tree.query_ball_point(pred_x, self.max_distance),\n",
        "            dtype=np.dtype(\"i8\"))\n",
        "        dist = np.sum((self.train_x[indices] - pred_x) ** 2, axis=1)\n",
        "        kappa = np.exp(self.scale * dist)\n",
        "        pred_y = np.dot(kappa, self.alpha[indices])\n",
        "        return self.std_y * pred_y + self.mean_y\n",
        "\n",
        "    def predict(self, pred_x):\n",
        "        \"\"\"Predict the values of pred_x.\n",
        "\n",
        "        :param pred_x: x data\n",
        "        :return: predicted values of pred_x\n",
        "        \"\"\"\n",
        "        assert len(pred_x.shape) == 2\n",
        "        assert pred_x.shape[1] == self.dim\n",
        "        pred_x = pred_x.astype(np.float32)\n",
        "        return np.array([self.predict_single(x) for x in pred_x])\n",
        "\n",
        "\n",
        "def kernel_ridge_regression(tau, sigma, verbose=False):\n",
        "    # Load the image.\n",
        "    im_orig = np.squeeze(plt.imread(\"cc_90.png\"))\n",
        "\n",
        "    # Make a copy, so both the original and the regressed image can be shown afterwards.\n",
        "    im = np.array(im_orig)\n",
        "\n",
        "    # Find the known pixels and the pixels that shall be predicted.\n",
        "    known_ind = np.where(im != 0)\n",
        "    # predict everywhere, use im == 0 to predict only unfilled values\n",
        "    unknown_ind = np.where(im >= 0)\n",
        "    known_x = np.array(known_ind).transpose()\n",
        "    known_y = np.array(im[known_ind])\n",
        "    pred_x = np.array(unknown_ind).transpose()\n",
        "\n",
        "    # Train and predict with the given regressor.\n",
        "    start = time.time()\n",
        "    if verbose: print(\"Training...\")\n",
        "    r = KernelRidgeRegressor(tau, sigma)\n",
        "    r.train(known_x, known_y, verbose=verbose)\n",
        "    if verbose: print(\"Done training.\")\n",
        "\n",
        "    if verbose: print(\"Predicting... \", end=\"\")\n",
        "    pred_y = r.predict(pred_x)\n",
        "    if verbose: print(\"Done.\")\n",
        "\n",
        "    # Write the predicted values back into the image and show the result.\n",
        "    im[unknown_ind] = pred_y\n",
        "    stop = time.time()\n",
        "    if verbose: print(\"Train and predict took %.02f seconds.\" % (stop - start))\n",
        "    if verbose: print(im.shape)\n",
        "\n",
        "    return im\n"
      ]
    }
  ]
}