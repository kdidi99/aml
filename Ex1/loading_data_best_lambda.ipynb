{
 "cells": [
  {
   "cell_type": "markdown",
   "id": "0069c9f9",
   "metadata": {},
   "source": [
    "# Loading Data"
   ]
  },
  {
   "cell_type": "code",
   "execution_count": 1,
   "id": "3bae8c13",
   "metadata": {},
   "outputs": [],
   "source": [
    "import numpy as np\n",
    "from sklearn . datasets import load_digits\n",
    "digits = load_digits ()\n"
   ]
  },
  {
   "cell_type": "code",
   "execution_count": 2,
   "id": "29b53167",
   "metadata": {},
   "outputs": [],
   "source": [
    "data = digits[\"data\"]\n",
    "images = digits[\"images\"]\n",
    "target = digits[\"target\"]\n",
    "target_names = digits [\"target_names\"]"
   ]
  },
  {
   "cell_type": "code",
   "execution_count": 3,
   "id": "135943f5",
   "metadata": {},
   "outputs": [],
   "source": [
    "full_data = np.column_stack((data, target))"
   ]
  },
  {
   "cell_type": "markdown",
   "id": "d21041d9",
   "metadata": {},
   "source": [
    "###### Choosing jsut the images which are 3 or 8 "
   ]
  },
  {
   "cell_type": "code",
   "execution_count": 4,
   "id": "524b2dbd",
   "metadata": {},
   "outputs": [],
   "source": [
    "mini_data = full_data[np.where((full_data[:,64] == 3) | (full_data[:,64] == 8))]"
   ]
  },
  {
   "cell_type": "code",
   "execution_count": 5,
   "id": "24b9bf71",
   "metadata": {},
   "outputs": [],
   "source": [
    "mini_features= mini_data[:, 0:64]"
   ]
  },
  {
   "cell_type": "code",
   "execution_count": 6,
   "id": "cca1659b",
   "metadata": {},
   "outputs": [
    {
     "data": {
      "text/plain": [
       "(357, 1)"
      ]
     },
     "execution_count": 6,
     "metadata": {},
     "output_type": "execute_result"
    }
   ],
   "source": [
    "mini_target= mini_data[:,64]\n",
    "mini_target= mini_target.reshape(357,1)\n",
    "mini_target.shape\n"
   ]
  },
  {
   "cell_type": "code",
   "execution_count": 7,
   "id": "a00a324b",
   "metadata": {},
   "outputs": [],
   "source": [
    "mini_target[mini_target == 3] = 1\n",
    "mini_target[mini_target == 8] = -1\n"
   ]
  },
  {
   "cell_type": "code",
   "execution_count": 8,
   "id": "d696667f",
   "metadata": {},
   "outputs": [],
   "source": [
    "mini_features= mini_data[:, 0:64]\n",
    "mini_features.shape\n",
    "intercept= np.full(shape=357,fill_value=1,dtype=np.float64())"
   ]
  },
  {
   "cell_type": "code",
   "execution_count": 9,
   "id": "b8f2593d",
   "metadata": {},
   "outputs": [
    {
     "data": {
      "text/plain": [
       "array([[ 0.,  0.,  7., ...,  0.,  0.,  1.],\n",
       "       [ 0.,  0.,  9., ...,  1.,  0.,  1.],\n",
       "       [ 0.,  2.,  9., ...,  0.,  0.,  1.],\n",
       "       ...,\n",
       "       [ 0.,  0.,  5., ...,  0.,  0.,  1.],\n",
       "       [ 0.,  0.,  1., ...,  0.,  0.,  1.],\n",
       "       [ 0.,  0., 10., ...,  1.,  0.,  1.]])"
      ]
     },
     "execution_count": 9,
     "metadata": {},
     "output_type": "execute_result"
    }
   ],
   "source": [
    "feature = np.column_stack(( mini_features,intercept,))\n",
    "feature"
   ]
  },
  {
   "cell_type": "markdown",
   "id": "80a226ed",
   "metadata": {},
   "source": [
    "# Running Binary Classification Model"
   ]
  },
  {
   "cell_type": "code",
   "execution_count": 10,
   "id": "5c6a593f",
   "metadata": {},
   "outputs": [],
   "source": [
    "from sklearn.model_selection import cross_val_score\n",
    "from sklearn.linear_model import LogisticRegression"
   ]
  },
  {
   "cell_type": "code",
   "execution_count": 11,
   "id": "75fd03e2",
   "metadata": {},
   "outputs": [
    {
     "name": "stdout",
     "output_type": "stream",
     "text": [
      "regularization       Model Accuracy\n",
      "##############################\n"
     ]
    }
   ],
   "source": [
    "accuracy_criteria = []\n",
    "\n",
    "from sklearn.model_selection import cross_val_score\n",
    "from sklearn.linear_model import LogisticRegression\n",
    "model_accuracies = []\n",
    "regularization = [0.00000001,0.0000001,0.000001, 0.00001, 0.0001, 0.001, 0.01, 0.1, 1, 10, 100,1000, 10000, 100000, 1000000, 1000000]\n",
    "\n",
    "print(\"regularization       Model Accuracy\")\n",
    "print(\"\"\"##############################\"\"\")"
   ]
  },
  {
   "cell_type": "code",
   "execution_count": 12,
   "id": "b6f78a51",
   "metadata": {
    "scrolled": true
   },
   "outputs": [
    {
     "name": "stdout",
     "output_type": "stream",
     "text": [
      "1e-08 \t\t 0.93525\n",
      "1e-07 \t\t 0.93525\n",
      "1e-06 \t\t 0.93529\n",
      "1e-05 \t\t 0.94937\n",
      "0.0001 \t\t 0.95227\n",
      "0.001 \t\t 0.94953\n",
      "0.01 \t\t 0.95802\n",
      "0.1 \t\t 0.96365\n",
      "1 \t\t 0.96643\n",
      "10 \t\t 0.96362\n",
      "100 \t\t 0.96084\n",
      "1000 \t\t 0.95802\n",
      "10000 \t\t 0.95802\n",
      "100000 \t\t 0.95802\n",
      "1000000 \t\t 0.95802\n",
      "1000000 \t\t 0.95802\n"
     ]
    }
   ],
   "source": [
    "for candidate in regularization:\n",
    "    LR = LogisticRegression(C = candidate , penalty = 'l2', solver= 'liblinear')\n",
    "    accuracy = cross_val_score(LR, feature, y = mini_target.reshape(-1,), cv = 5)\n",
    "    model_accuracies.append(np.mean(accuracy))\n",
    "    print(\"{} \\t\\t {:.5f}\".format(candidate,model_accuracies[-1]))\n",
    "    "
   ]
  },
  {
   "cell_type": "markdown",
   "id": "a9376de2",
   "metadata": {},
   "source": [
    "#### The best regularization factor is 1 "
   ]
  },
  {
   "cell_type": "code",
   "execution_count": null,
   "id": "42d7368a",
   "metadata": {},
   "outputs": [],
   "source": []
  }
 ],
 "metadata": {
  "kernelspec": {
   "display_name": "Python 3",
   "language": "python",
   "name": "python3"
  },
  "language_info": {
   "codemirror_mode": {
    "name": "ipython",
    "version": 3
   },
   "file_extension": ".py",
   "mimetype": "text/x-python",
   "name": "python",
   "nbconvert_exporter": "python",
   "pygments_lexer": "ipython3",
   "version": "3.8.8"
  }
 },
 "nbformat": 4,
 "nbformat_minor": 5
}
