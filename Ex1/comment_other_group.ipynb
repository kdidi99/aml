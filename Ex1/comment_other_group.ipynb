{
 "cells": [
  {
   "cell_type": "markdown",
   "metadata": {
    "pycharm": {
     "name": "#%% md\n"
    }
   },
   "source": [
    "# EX 01: Logistic Regression\n",
    "\n",
    "by Christoph Rindchen, Johannes Maul and Lukas Klinger"
   ]
  },
  {
   "cell_type": "markdown",
   "metadata": {
    "pycharm": {
     "name": "#%% md\n"
    }
   },
   "source": [
    "Imports:"
   ]
  },
  {
   "cell_type": "code",
   "execution_count": 11,
   "metadata": {
    "jupyter": {
     "outputs_hidden": false
    },
    "pycharm": {
     "name": "#%%\n"
    }
   },
   "outputs": [],
   "source": [
    "import matplotlib.pyplot as plt\n",
    "import numpy as np\n",
    "\n",
    "from sklearn.datasets import load_digits\n",
    "from sklearn.linear_model import LogisticRegression\n",
    "from sklearn.model_selection import cross_val_score\n",
    "from sklearn import model_selection"
   ]
  },
  {
   "cell_type": "markdown",
   "metadata": {
    "pycharm": {
     "name": "#%% md\n"
    }
   },
   "source": [
    "## 1.0 Loading Data:"
   ]
  },
  {
   "cell_type": "code",
   "execution_count": 12,
   "metadata": {
    "jupyter": {
     "outputs_hidden": false
    },
    "pycharm": {
     "name": "#%%\n"
    }
   },
   "outputs": [],
   "source": [
    "digits = load_digits()\n",
    "data = digits[\"data\"]\n",
    "images = digits[\"images\"]\n",
    "target = digits[\"target\"]\n",
    "target_names = digits[\"target_names\"]"
   ]
  },
  {
   "cell_type": "markdown",
   "metadata": {
    "pycharm": {
     "name": "#%% md\n"
    }
   },
   "source": [
    "Reduce data:"
   ]
  },
  {
   "cell_type": "code",
   "execution_count": 13,
   "metadata": {
    "jupyter": {
     "outputs_hidden": false
    },
    "pycharm": {
     "name": "#%%\n"
    }
   },
   "outputs": [],
   "source": [
    "mask = np.logical_or(target == 3, target == 8)\n",
    "targets_reduced = target[mask]\n",
    "data_reduced = data[mask]"
   ]
  },
  {
   "cell_type": "code",
   "execution_count": 15,
   "metadata": {
    "jupyter": {
     "outputs_hidden": false
    },
    "pycharm": {
     "name": "#%%\n"
    }
   },
   "outputs": [],
   "source": [
    "data_x = np.hstack((data_reduced, np.ones((357, 1))))\n",
    "\n",
    "data_y = np.ones_like(targets_reduced)\n",
    "data_y[targets_reduced == 8] = -1"
   ]
  },
  {
   "cell_type": "markdown",
   "metadata": {
    "pycharm": {
     "name": "#%% md\n"
    }
   },
   "source": [
    "## 1.1 Classification with sklearn"
   ]
  },
  {
   "cell_type": "code",
   "execution_count": 16,
   "metadata": {
    "jupyter": {
     "outputs_hidden": false
    },
    "pycharm": {
     "name": "#%%\n"
    }
   },
   "outputs": [
    {
     "name": "stdout",
     "output_type": "stream",
     "text": [
      "[lambda 0.01]: 0.9580203442879499\n",
      "[lambda 0.1]: 0.9636541471048513\n",
      "[lambda 1]: 0.966431924882629\n",
      "[lambda 10]: 0.9636150234741784\n",
      "[lambda 100]: 0.9608372456964005\n",
      "\n",
      "The best lambda was 1\n"
     ]
    }
   ],
   "source": [
    "lambdas = [0.01, 0.1, 1, 10, 100]\n",
    "scores = list()\n",
    "\n",
    "for lambda_i in lambdas:\n",
    "    log_reg_model = LogisticRegression(C=lambda_i, solver=\"liblinear\")\n",
    "    score = cross_val_score(log_reg_model, data_x, data_y)\n",
    "\n",
    "    scores.append(np.mean(score))\n",
    "\n",
    "    print(f\"[lambda {lambda_i}]: {scores[-1]}\")\n",
    "\n",
    "print(f\"\\nThe best lambda was {lambdas[np.argmax(scores)]}\")"
   ]
  },
  {
   "cell_type": "markdown",
   "metadata": {
    "pycharm": {
     "name": "#%% md\n"
    }
   },
   "source": [
    "## 1.2 Optimization Methods"
   ]
  },
  {
   "cell_type": "markdown",
   "metadata": {
    "pycharm": {
     "name": "#%% md\n"
    }
   },
   "source": [
    "Helper Methods:"
   ]
  },
  {
   "cell_type": "code",
   "execution_count": 17,
   "metadata": {
    "jupyter": {
     "outputs_hidden": false
    },
    "pycharm": {
     "name": "#%%\n"
    }
   },
   "outputs": [],
   "source": [
    "def sigmoid(z):\n",
    "    return 1 / (1 + np.exp(-z))"
   ]
  },
  {
   "cell_type": "code",
   "execution_count": 18,
   "metadata": {
    "jupyter": {
     "outputs_hidden": false
    },
    "pycharm": {
     "name": "#%%\n"
    }
   },
   "outputs": [],
   "source": [
    "def gradient(beta, X, y, lambda_=1):\n",
    "    # see lecture from the 03.05.22 under Log. Reg. obj. with regularization\n",
    "\n",
    "    N = X.shape[0]\n",
    "\n",
    "    if len(X.shape) > 1:\n",
    "        return beta.T + lambda_ / N * (sigmoid(-y * (X @ beta)) @ (-np.stack([y] * X.shape[1]).T * X))\n",
    "    else:\n",
    "        return beta.T + lambda_ / N * (sigmoid(-y * (X @ beta)) * (-y * X))"
   ]
  },
  {
   "cell_type": "markdown",
   "metadata": {},
   "source": [
    "<div style=\"color: green; font-weight: bold\">Comment</div>\n",
    "\n",
    "The gradient function is almost the same. The only diference is the placement of lambda parameter. Beta should be divided by lambda. In this case since best lambda is 1 it doesn't make any difference but if we change lambda to different value then the results of this gradnient function and the one presented in example solution are different. Because the beta shape is (65,) and not (65, 1) they needed to take under consideration two cases (if else). Using beta with shape (65, 1) is more elegant because we dont need if condition then."
   ]
  },
  {
   "cell_type": "code",
   "execution_count": 19,
   "metadata": {
    "jupyter": {
     "outputs_hidden": false
    },
    "pycharm": {
     "name": "#%%\n"
    }
   },
   "outputs": [],
   "source": [
    "def predict(beta, X, th=0):\n",
    "    y = beta @ X.T\n",
    "    y[y < th] = -1\n",
    "    y[y >= th] = 1\n",
    "\n",
    "    return y"
   ]
  },
  {
   "cell_type": "code",
   "execution_count": 20,
   "metadata": {
    "jupyter": {
     "outputs_hidden": false
    },
    "pycharm": {
     "name": "#%%\n"
    }
   },
   "outputs": [],
   "source": [
    "def zero_one_loss(y_prediction, y_truth):\n",
    "    return np.mean(y_prediction != y_truth)"
   ]
  },
  {
   "cell_type": "markdown",
   "metadata": {},
   "source": [
    "<div style=\"color: green; font-weight: bold\">Comment</div>\n",
    "\n",
    "Other help methods are the same"
   ]
  },
  {
   "cell_type": "markdown",
   "metadata": {
    "pycharm": {
     "name": "#%% md\n"
    }
   },
   "source": [
    "Optimization Methods:"
   ]
  },
  {
   "cell_type": "code",
   "execution_count": 21,
   "metadata": {
    "jupyter": {
     "outputs_hidden": false
    },
    "pycharm": {
     "name": "#%%\n"
    }
   },
   "outputs": [],
   "source": [
    "def gradient_descent(X, y, learning_rate, beta_0, num_of_iterations=10, **kwargs):\n",
    "    beta = beta_0\n",
    "\n",
    "    for i in range(num_of_iterations):\n",
    "        grad = gradient(beta, X, y)\n",
    "\n",
    "        beta = beta - learning_rate * grad\n",
    "\n",
    "    return beta"
   ]
  },
  {
   "cell_type": "markdown",
   "metadata": {},
   "source": [
    "<div style=\"color: green; font-weight: bold\">Comment</div>\n",
    "\n",
    "Gradnient descent is the same"
   ]
  },
  {
   "cell_type": "code",
   "execution_count": 22,
   "metadata": {
    "jupyter": {
     "outputs_hidden": false
    },
    "pycharm": {
     "name": "#%%\n"
    }
   },
   "outputs": [],
   "source": [
    "def stochastic_gradient_descent(X, y, learning_rate, beta_0, num_of_iterations=150, gamma=0, **kwargs):\n",
    "    beta = beta_0\n",
    "\n",
    "    for i in range(num_of_iterations):\n",
    "        rand_idx = np.random.randint(0, X.shape[0])\n",
    "        \n",
    "        grad = gradient(beta, X[rand_idx], y[rand_idx])\n",
    "\n",
    "        learning_rate = learning_rate / (1 + gamma * i)\n",
    "        beta = beta - learning_rate * grad\n",
    "\n",
    "    return beta"
   ]
  },
  {
   "cell_type": "markdown",
   "metadata": {},
   "source": [
    "<div style=\"color: green; font-weight: bold\">Comment</div>\n",
    "\n",
    "Stochastic gradient is the same "
   ]
  },
  {
   "cell_type": "code",
   "execution_count": 23,
   "metadata": {
    "jupyter": {
     "outputs_hidden": false
    },
    "pycharm": {
     "name": "#%%\n"
    }
   },
   "outputs": [],
   "source": [
    "def minibatch_gradient_descent(X, y, learning_rate, beta_0, num_of_iterations=150, batch_size=10, gamma=0, **kwargs):\n",
    "    beta = beta_0\n",
    "\n",
    "    for i in range(num_of_iterations):\n",
    "        shuffled_idxs = np.random.permutation(range(X.shape[0]))[:batch_size]\n",
    "\n",
    "        grad = gradient(beta, X[shuffled_idxs, :], y[shuffled_idxs])\n",
    "\n",
    "        learning_rate = learning_rate / (1 + gamma * i)\n",
    "        beta = beta - learning_rate * grad\n",
    "\n",
    "    return beta"
   ]
  },
  {
   "cell_type": "markdown",
   "metadata": {},
   "source": [
    "<div style=\"color: green; font-weight: bold\">Comment</div>\n",
    "\n",
    "Mini batch is the same. Different random function was used but it does the same job. They also choose instances without replacement. "
   ]
  },
  {
   "cell_type": "code",
   "execution_count": 24,
   "metadata": {
    "jupyter": {
     "outputs_hidden": false
    },
    "pycharm": {
     "name": "#%%\n"
    }
   },
   "outputs": [],
   "source": [
    "def momentum_stochastic_gradient_descent(X, y, learning_rate, beta_0, mu=0.99, num_of_iterations=150, g_0=0, gamma=0, **kwargs):\n",
    "    g = g_0\n",
    "    beta = beta_0\n",
    "\n",
    "    for i in range(num_of_iterations):\n",
    "        rand_idx = np.random.randint(0, X.shape[0])\n",
    "        grad = gradient(beta, X[rand_idx], y[rand_idx])\n",
    "\n",
    "        g = mu * g + (1 - mu) * grad\n",
    "\n",
    "        learning_rate = learning_rate / (1 + gamma * i)\n",
    "        beta = beta - learning_rate * g\n",
    "\n",
    "    return beta"
   ]
  },
  {
   "cell_type": "markdown",
   "metadata": {},
   "source": [
    "<div style=\"color: green; font-weight: bold\">Comment</div>\n",
    "\n",
    "Momentum is the same."
   ]
  },
  {
   "cell_type": "code",
   "execution_count": 25,
   "metadata": {
    "jupyter": {
     "outputs_hidden": false
    },
    "pycharm": {
     "name": "#%%\n"
    }
   },
   "outputs": [],
   "source": [
    "def adam(X, y, learning_rate, beta_0, mu_1=0.9, mu_2=0.999, num_of_iterations=150, g_0=0, q_0 = 0, eps=10**(-8), **kwargs):\n",
    "    g = g_0\n",
    "    q = q_0\n",
    "    beta = beta_0\n",
    "\n",
    "    for i in range(num_of_iterations):\n",
    "        rand_idx = np.random.randint(0, X.shape[0])\n",
    "        grad = gradient(beta, X[rand_idx], y[rand_idx])\n",
    "\n",
    "        g = mu_1 * g + (1 - mu_1) * grad\n",
    "        q = mu_2 * q + (1 - mu_2) * grad**2\n",
    "        g_tilde = g / (1 - mu_1**(i + 1))\n",
    "        q_tilde = q / (1 - mu_2**(i + 1))\n",
    "\n",
    "        beta = beta - learning_rate * g_tilde / (np.sqrt(q_tilde) + eps)\n",
    "\n",
    "    return beta"
   ]
  },
  {
   "cell_type": "markdown",
   "metadata": {},
   "source": [
    "<div style=\"color: green; font-weight: bold\">Comment</div>\n",
    "\n",
    "Adam is the same."
   ]
  },
  {
   "cell_type": "code",
   "execution_count": 26,
   "metadata": {
    "jupyter": {
     "outputs_hidden": false
    },
    "pycharm": {
     "name": "#%%\n"
    }
   },
   "outputs": [],
   "source": [
    "def stochastic_average_gradient(X, y, learning_rate, beta_0, num_of_iterations=150, lambda_=1, **kwargs):\n",
    "    beta = beta_0.reshape((X.shape[1], 1))\n",
    "    gamma = 0.1\n",
    "    tau = 0.1\n",
    "\n",
    "    g_i_stored = (-np.stack([y] * X.shape[1]).T * X) * sigmoid(-np.stack([y] * X.shape[1]).T * (X @ beta))\n",
    "    g = np.mean(g_i_stored, axis=0, keepdims=True)\n",
    "\n",
    "    for i in range(num_of_iterations):\n",
    "        learning_rate = learning_rate / (1 + gamma * i)\n",
    "\n",
    "        rand_idx = np.random.randint(0, X.shape[0])\n",
    "\n",
    "        g_i = -y[rand_idx] * X[rand_idx] * sigmoid(-y[rand_idx] * np.dot(X[rand_idx], beta))\n",
    "        g += (g_i - g_i_stored[rand_idx,:]) / y.shape[0]\n",
    "\n",
    "        beta = beta * (1 - tau / lambda_) - tau * g.T\n",
    "\n",
    "        g_i_stored[rand_idx, :] = g_i\n",
    "\n",
    "    return np.squeeze(beta)"
   ]
  },
  {
   "cell_type": "markdown",
   "metadata": {},
   "source": [
    "<div style=\"color: green; font-weight: bold\">Comment</div>\n",
    "\n",
    "Stochastic average gradient works the same. The differece is with calculating g_i_stored. Because y has different shape than y in example solution they had to do some \"tricks\" using np.stack function. The g_i_stored is the same in both cases but the code in example solution is cleaner. Apart from that the code is essentialy the same. Also they use np.squeeze to change beta shape to (65, )"
   ]
  },
  {
   "cell_type": "code",
   "execution_count": 27,
   "metadata": {
    "jupyter": {
     "outputs_hidden": false
    },
    "pycharm": {
     "name": "#%%\n"
    }
   },
   "outputs": [],
   "source": [
    "def dual_coordinate_ascent(X, y, learning_rate, beta_0, num_of_iterations=150, lambda_=1, eps=10**(-5), **kwargs):\n",
    "    alpha = np.random.uniform(0, 1, y.shape)\n",
    "    beta = lambda_ / y.shape[0] * (X.T @ (y * alpha))  # ignore given beta_0\n",
    "\n",
    "    for i in range(num_of_iterations):\n",
    "        rand_idx = np.random.randint(0, X.shape[0])\n",
    "\n",
    "        f_1 = y[rand_idx] * (X[rand_idx] @ beta) + np.log(alpha[rand_idx] / (1 - alpha[rand_idx]))\n",
    "        f_2 = lambda_ / y.shape[0] * (X[rand_idx] @ X[rand_idx].T) + 1 / ((alpha[rand_idx]) * (1 - alpha[rand_idx]))\n",
    "\n",
    "        alpha_t = alpha[rand_idx]\n",
    "        alpha[rand_idx] = np.clip(alpha[rand_idx] - f_1 / f_2, eps, 1-eps)\n",
    "        beta += (alpha[rand_idx] - alpha_t) * y[rand_idx] * X[rand_idx].T * lambda_ / y.shape[0]\n",
    "\n",
    "    return beta"
   ]
  },
  {
   "cell_type": "markdown",
   "metadata": {},
   "source": [
    "<div style=\"color: green; font-weight: bold\">Comment</div>\n",
    "\n",
    "Dual coordinate ascent is the same "
   ]
  },
  {
   "cell_type": "code",
   "execution_count": 28,
   "metadata": {
    "jupyter": {
     "outputs_hidden": false
    },
    "pycharm": {
     "name": "#%%\n"
    }
   },
   "outputs": [],
   "source": [
    "def newton_raphson(X, y, learning_rate, beta_0, num_of_iterations=10, lambda_=1, **kwargs):\n",
    "    beta = beta_0\n",
    "\n",
    "    for i in range(num_of_iterations):\n",
    "        z = X @ beta\n",
    "        y_tilde = y / sigmoid(y * z)\n",
    "        W = np.diag((lambda_ / X.shape[0] * (sigmoid(z) * sigmoid(-z))).reshape(-1,))\n",
    "        beta = (np.linalg.inv(np.eye(X.shape[1]) + (X.T @ W).dot(X))).dot(X.T).dot(W).dot(z + y_tilde)\n",
    "\n",
    "    return beta"
   ]
  },
  {
   "cell_type": "markdown",
   "metadata": {},
   "source": [
    "<div style=\"color: green; font-weight: bold\">Comment</div>\n",
    "\n",
    "Newton is the same "
   ]
  },
  {
   "cell_type": "code",
   "execution_count": 29,
   "metadata": {
    "jupyter": {
     "outputs_hidden": false
    },
    "pycharm": {
     "name": "#%%\n"
    }
   },
   "outputs": [],
   "source": [
    "IMPLEMENTED_OPTIMIZERS = [gradient_descent, stochastic_gradient_descent, minibatch_gradient_descent, momentum_stochastic_gradient_descent, adam, stochastic_average_gradient, dual_coordinate_ascent, newton_raphson]"
   ]
  },
  {
   "cell_type": "markdown",
   "metadata": {
    "pycharm": {
     "name": "#%% md\n"
    }
   },
   "source": [
    "## 1.3 Comparison"
   ]
  },
  {
   "cell_type": "code",
   "execution_count": 30,
   "metadata": {
    "jupyter": {
     "outputs_hidden": false
    },
    "pycharm": {
     "name": "#%%\n"
    }
   },
   "outputs": [],
   "source": [
    "X, X_test , y, y_test = model_selection.train_test_split(data_x, data_y, test_size=0.3, random_state=0)"
   ]
  },
  {
   "cell_type": "code",
   "execution_count": 31,
   "metadata": {
    "jupyter": {
     "outputs_hidden": false
    },
    "pycharm": {
     "name": "#%%\n"
    },
    "scrolled": false
   },
   "outputs": [
    {
     "name": "stdout",
     "output_type": "stream",
     "text": [
      "gradient_descent\n",
      "stochastic_gradient_descent\n",
      "minibatch_gradient_descent\n",
      "momentum_stochastic_gradient_descent\n",
      "adam\n",
      "stochastic_average_gradient\n",
      "dual_coordinate_ascent\n",
      "newton_raphson\n"
     ]
    }
   ],
   "source": [
    "infos = dict()\n",
    "\n",
    "for method in IMPLEMENTED_OPTIMIZERS:\n",
    "    kf = model_selection.KFold(n_splits=10)\n",
    "\n",
    "    infos[method.__name__] = list()\n",
    "\n",
    "    print(method.__name__)\n",
    "\n",
    "    for tau in [0.001, 0.01, 0.1]:\n",
    "        if method == adam:\n",
    "            tau = 10**(-4)\n",
    "\n",
    "        for mu in [0.1, 0.2, 0.5]:\n",
    "            for gamma in [0.0001, 0.001, 0.01]:\n",
    "\n",
    "                cross_val_loss = list()\n",
    "\n",
    "                for train_index, validation_index in kf.split(X):\n",
    "                    X_train , X_validation = X[train_index], X[validation_index]\n",
    "                    y_train , y_validation = y[train_index], y[validation_index]\n",
    "\n",
    "                    # defining g_0 and num_of_iterations in the function heads\n",
    "                    beta_0 = np.zeros((X_train.shape[1]))\n",
    "\n",
    "                    beta = method(X_train, y_train, tau, beta_0, mu=mu, gamma=gamma)\n",
    "\n",
    "                    y_pred = predict(beta, X_validation)\n",
    "                    cross_val_loss.append(zero_one_loss(y_pred, y_validation))\n",
    "\n",
    "                infos[method.__name__].append(\n",
    "                    [{\n",
    "                        \"tau\": tau,\n",
    "                        \"mu\": mu,\n",
    "                        \"gamma\": gamma\n",
    "                    }, np.mean(cross_val_loss)]\n",
    "                )"
   ]
  },
  {
   "cell_type": "code",
   "execution_count": 33,
   "metadata": {
    "jupyter": {
     "outputs_hidden": false
    },
    "pycharm": {
     "name": "#%%\n"
    }
   },
   "outputs": [
    {
     "name": "stdout",
     "output_type": "stream",
     "text": [
      "best params for gradient_descent resulting in loss=0.04833333333333333:  {'tau': 0.01, 'mu': 0.1, 'gamma': 0.0001}\n",
      "best params for stochastic_gradient_descent resulting in loss=0.0365:  {'tau': 0.1, 'mu': 0.5, 'gamma': 0.001}\n",
      "best params for minibatch_gradient_descent resulting in loss=0.012166666666666668:  {'tau': 0.01, 'mu': 0.1, 'gamma': 0.0001}\n",
      "best params for momentum_stochastic_gradient_descent resulting in loss=0.052500000000000005:  {'tau': 0.1, 'mu': 0.1, 'gamma': 0.001}\n",
      "best params for adam resulting in loss=0.06066666666666667:  {'tau': 0.0001, 'mu': 0.1, 'gamma': 0.0001}\n",
      "best params for stochastic_average_gradient resulting in loss=0.04433333333333333:  {'tau': 0.1, 'mu': 0.2, 'gamma': 0.01}\n",
      "best params for dual_coordinate_ascent resulting in loss=0.028333333333333332:  {'tau': 0.001, 'mu': 0.2, 'gamma': 0.001}\n",
      "best params for newton_raphson resulting in loss=0.012166666666666668:  {'tau': 0.001, 'mu': 0.1, 'gamma': 0.0001}\n"
     ]
    }
   ],
   "source": [
    "best_params = dict()\n",
    "\n",
    "for method_name in infos.keys():\n",
    "    test = np.array(infos[method_name], dtype=object)\n",
    "    best_params_idx = np.argmin(test[:, 1])\n",
    "    print(f\"best params for {method_name} resulting in loss={test[best_params_idx, 1]}: \", test[best_params_idx, 0])\n",
    "\n",
    "    best_params[method_name] = test[best_params_idx, 0]"
   ]
  },
  {
   "cell_type": "markdown",
   "metadata": {},
   "source": [
    "<div style=\"color: green; font-weight: bold\">Comment</div>\n",
    "\n",
    "The authors of this notebook chose a bit different way to choose hyperparameters. They store all resoults and then they choose the minimal value. This approach requires a bit more memory. This solution is correct, the resoults are different because of randomness. "
   ]
  },
  {
   "cell_type": "code",
   "execution_count": 34,
   "metadata": {
    "jupyter": {
     "outputs_hidden": false
    },
    "pycharm": {
     "name": "#%%\n"
    }
   },
   "outputs": [
    {
     "name": "stdout",
     "output_type": "stream",
     "text": [
      "finished training with gradient_descent\n",
      "finished training with stochastic_gradient_descent\n",
      "finished training with minibatch_gradient_descent\n",
      "finished training with momentum_stochastic_gradient_descent\n",
      "finished training with adam\n",
      "finished training with stochastic_average_gradient\n",
      "finished training with dual_coordinate_ascent\n",
      "finished training with newton_raphson\n"
     ]
    }
   ],
   "source": [
    "results = dict()\n",
    "\n",
    "DIFFERENT_POSSIBLE_ITERATIONS = [1, 10, 100, 500, 1000, 2000, 3000, 4000, 6000, 8000, 10000]\n",
    "\n",
    "for method in IMPLEMENTED_OPTIMIZERS:\n",
    "    params = best_params[method.__name__].copy()\n",
    "    params[\"learning_rate\"] = params[\"tau\"]\n",
    "    del params[\"tau\"]\n",
    "\n",
    "    train_loss = list()\n",
    "    test_loss = list()\n",
    "\n",
    "    if method not in [gradient_descent, newton_raphson]:\n",
    "        different_num_of_iterations = DIFFERENT_POSSIBLE_ITERATIONS\n",
    "    elif method == gradient_descent:\n",
    "        different_num_of_iterations = range(5, 50)\n",
    "    else:\n",
    "        different_num_of_iterations = range(1, 20, 2)\n",
    "\n",
    "    for num_of_iterations in different_num_of_iterations:\n",
    "        beta_0 = np.zeros((X.shape[1]))\n",
    "\n",
    "        beta = method(X, y, num_of_iterations=num_of_iterations, beta_0=beta_0, **params)\n",
    "\n",
    "        y_pred_train = predict(beta, X)\n",
    "        train_loss.append(zero_one_loss(y_pred_train, y))\n",
    "\n",
    "        y_pred_test = predict(beta, X_test)\n",
    "        test_loss.append(zero_one_loss(y_pred_test, y_test))\n",
    "\n",
    "    results[method.__name__] = (train_loss, test_loss)\n",
    "    print(f\"finished training with {method.__name__}\")"
   ]
  },
  {
   "cell_type": "markdown",
   "metadata": {},
   "source": [
    "<div style=\"color: green; font-weight: bold\">Comment</div>\n",
    "\n",
    "Instead of monitoring loss during training authors train many models with different number of iterations. This approach gives good resaults but is way slower because instead of training model once we have to do this multiple times"
   ]
  },
  {
   "cell_type": "code",
   "execution_count": 35,
   "metadata": {
    "jupyter": {
     "outputs_hidden": false
    },
    "pycharm": {
     "name": "#%%\n"
    }
   },
   "outputs": [],
   "source": [
    "def plot_loss_for_different_T(capital_t, train_loss, test_loss, title):\n",
    "    plt.plot(capital_t, train_loss, label=\"train\")\n",
    "    plt.plot(capital_t, test_loss, label=\"test\")\n",
    "    plt.xscale(\"log\")\n",
    "    plt.xlim([10**2, 10**7 + (10**8 - 10**7) / 2])\n",
    "    plt.xlabel(\"T\")\n",
    "    plt.ylabel(\"Loss\")\n",
    "    plt.title(title)\n",
    "    plt.legend()\n",
    "    plt.show()"
   ]
  },
  {
   "cell_type": "code",
   "execution_count": 38,
   "metadata": {
    "jupyter": {
     "outputs_hidden": false
    },
    "pycharm": {
     "name": "#%%\n"
    },
    "scrolled": false
   },
   "outputs": [
    {
     "data": {
      "image/png": "[encoded data removed]",
      "text/plain": [
       "<Figure size 432x288 with 1 Axes>"
      ]
     },
     "metadata": {
      "needs_background": "light"
     },
     "output_type": "display_data"
    },
    {
     "data": {
      "image/png": "[encoded data removed]",
      "text/plain": [
       "<Figure size 432x288 with 1 Axes>"
      ]
     },
     "metadata": {
      "needs_background": "light"
     },
     "output_type": "display_data"
    },
    {
     "data": {
      "image/png": "[encoded data removed]",
      "text/plain": [
       "<Figure size 432x288 with 1 Axes>"
      ]
     },
     "metadata": {
      "needs_background": "light"
     },
     "output_type": "display_data"
    },
    {
     "data": {
      "image/png": "[encoded data removed]",
      "text/plain": [
       "<Figure size 432x288 with 1 Axes>"
      ]
     },
     "metadata": {
      "needs_background": "light"
     },
     "output_type": "display_data"
    },
    {
     "data": {
      "image/png": "[encoded data removed]",
      "text/plain": [
       "<Figure size 432x288 with 1 Axes>"
      ]
     },
     "metadata": {
      "needs_background": "light"
     },
     "output_type": "display_data"
    },
    {
     "data": {
      "image/png": "[encoded data removed]",
      "text/plain": [
       "<Figure size 432x288 with 1 Axes>"
      ]
     },
     "metadata": {
      "needs_background": "light"
     },
     "output_type": "display_data"
    },
    {
     "data": {
      "image/png": "[encoded data removed]",
      "text/plain": [
       "<Figure size 432x288 with 1 Axes>"
      ]
     },
     "metadata": {
      "needs_background": "light"
     },
     "output_type": "display_data"
    },
    {
     "data": {
      "image/png": "[encoded data removed]",
      "text/plain": [
       "<Figure size 432x288 with 1 Axes>"
      ]
     },
     "metadata": {
      "needs_background": "light"
     },
     "output_type": "display_data"
    }
   ],
   "source": [
    "train_loss, test_loss = results[\"gradient_descent\"]\n",
    "capital_t = [X.shape[0] * X.shape[1] * t for t in range(5, 50)]\n",
    "plot_loss_for_different_T(capital_t, train_loss, test_loss, title=\"gradient_descent\")\n",
    "\n",
    "train_loss, test_loss = results[\"stochastic_gradient_descent\"]\n",
    "capital_t = [X.shape[1] * t for t in DIFFERENT_POSSIBLE_ITERATIONS]\n",
    "plot_loss_for_different_T(capital_t, train_loss, test_loss, title=\"stochastic_gradient_descent\")\n",
    "\n",
    "train_loss, test_loss = results[\"minibatch_gradient_descent\"]\n",
    "capital_t = [X.shape[1] * 10 * t for t in DIFFERENT_POSSIBLE_ITERATIONS]\n",
    "plot_loss_for_different_T(capital_t, train_loss, test_loss, title=\"minibatch_gradient_descent\")\n",
    "\n",
    "train_loss, test_loss = results[\"momentum_stochastic_gradient_descent\"]\n",
    "capital_t = [X.shape[1] * t for t in DIFFERENT_POSSIBLE_ITERATIONS]\n",
    "plot_loss_for_different_T(capital_t, train_loss, test_loss, title=\"momentum_stochastic_gradient_descent\")\n",
    "\n",
    "train_loss, test_loss = results[\"adam\"]\n",
    "capital_t = [X.shape[1] * t for t in DIFFERENT_POSSIBLE_ITERATIONS]\n",
    "plot_loss_for_different_T(capital_t, train_loss, test_loss, title=\"adam\")\n",
    "\n",
    "train_loss, test_loss = results[\"stochastic_average_gradient\"]\n",
    "capital_t = [X.shape[1] * t for t in DIFFERENT_POSSIBLE_ITERATIONS]\n",
    "plot_loss_for_different_T(capital_t, train_loss, test_loss, title=\"stochastic_average_gradient\")\n",
    "\n",
    "train_loss, test_loss = results[\"dual_coordinate_ascent\"]\n",
    "capital_t = [X.shape[1] * t for t in DIFFERENT_POSSIBLE_ITERATIONS]\n",
    "plot_loss_for_different_T(capital_t, train_loss, test_loss, title=\"dual_coordinate_ascent\")\n",
    "\n",
    "train_loss, test_loss = results[\"newton_raphson\"]\n",
    "capital_t = [X.shape[0] * X.shape[1]**2 * t for t in range(1, 20, 2)]\n",
    "plot_loss_for_different_T(capital_t, train_loss, test_loss, title=\"newton_raphson\")"
   ]
  },
  {
   "cell_type": "markdown",
   "metadata": {
    "pycharm": {
     "name": "#%% md\n"
    }
   },
   "source": [
    "From our observations and test, the fastest algorithms to converge are minibatch gradient descent and stochastic gradient descent. From a quality perspective Newton Raphson is the best, but it takes much longer to train the model."
   ]
  }
 ],
 "metadata": {
  "kernelspec": {
   "display_name": "Python 3",
   "language": "python",
   "name": "python3"
  },
  "language_info": {
   "codemirror_mode": {
    "name": "ipython",
    "version": 3
   },
   "file_extension": ".py",
   "mimetype": "text/x-python",
   "name": "python",
   "nbconvert_exporter": "python",
   "pygments_lexer": "ipython3",
   "version": "3.8.5"
  }
 },
 "nbformat": 4,
 "nbformat_minor": 4
}
