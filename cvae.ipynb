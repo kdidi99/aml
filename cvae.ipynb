{
  "cells": [
    {
      "cell_type": "markdown",
      "metadata": {
        "id": "view-in-github",
        "colab_type": "text"
      },
      "source": [
        "<a href=\"https://colab.research.google.com/github/kdidi99/ml_advanced_hd/blob/main/cvae.ipynb\" target=\"_parent\"><img src=\"https://colab.research.google.com/assets/colab-badge.svg\" alt=\"Open In Colab\"/></a>"
      ]
    },
    {
      "cell_type": "markdown",
      "metadata": {
        "id": "-UteRPZKLC86"
      },
      "source": [
        "# Exercise 4"
      ]
    },
    {
      "cell_type": "markdown",
      "metadata": {
        "id": "JD03NRC6LC89"
      },
      "source": [
        "## Preliminaries"
      ]
    },
    {
      "cell_type": "code",
      "execution_count": 1,
      "metadata": {
        "colab": {
          "base_uri": "https://localhost:8080/",
          "height": 434,
          "referenced_widgets": [
            "2865a105adaa499c9d0237f8b60e3a43",
            "74f4a8c30a7a476eb45e8730835827f8",
            "718bed32a289425eb3cf0b6a7b544475",
            "6afdcebe35144707b9ea7e22d788cf78",
            "66794fd316b2468ea168d849f41a83ff",
            "14a16fac5c9b4c73828f40c98fb52f5a",
            "cbae5517be29435e81f24596c02bf2af",
            "c7ccc3b41e5541768088d7dd2f2fe6c1",
            "ec4041b5fd4f4a508c2ad731f50d1b3d",
            "de8518ac5e5447ecb7f152a19ac88cb2",
            "911f0134aaf14eeda82390240bec19fc",
            "2ccbf70f173243c9a0c1991df0142298",
            "c2f037fec5784de0a937af44f1143e4f",
            "28ed77e36e0f4d7ea97e10695c77e868",
            "9a6fca08a625435abe5b0b60b24b70d4",
            "8112541c52fe45ac9aa6bc3db1eb6f63",
            "ee0c83bc04fd4b9b9e31de5f56a82e05",
            "c36fd63e28244ddd86aa95cd74364519",
            "3eaa536b84824e99991abce233085551",
            "fd565c5a4de04b1b84f94cbd621915dd",
            "8c0df42093a549e8966860bf1cc16f63",
            "250b5d3189704d9594d238a895b74397",
            "244f5eb23bae485da5e01a0a3eff23b9",
            "4026c4100f924eb5a2a3cc1c196e033f",
            "1f6f1d29d58b488e9f0c5018a6744953",
            "3559c01ed5d44c928a1aac5ad3f13616",
            "28b7dd18af4c4f41b8068c59e385f1f4",
            "42a71995fa7d489983a296670c521f5f",
            "468adf5c4add4258a241bbd9e0b091e8",
            "3dbe06f1a0be4125b551f39b034e02de",
            "46881c2120694a5bacb4fff74a0e343c",
            "a170eb0b598c4e73b2193261605913c9",
            "878e60d926c04146b69940107a63c6e7",
            "ce2cb524566a48efb4a31f93b3dfb079",
            "9c3bc13e95674fe68afb256918a653f0",
            "4873ac787684458985133784538c18e4",
            "ef274e7b5d604902811ff6f29dc3bfbe",
            "9541d9dd53f14e57b957e967f54a1f95",
            "1f25db39f3c540118a26ab1590ff7ed2",
            "51abae3ebb8a443c8d3afd218b1d5db8",
            "c72b17cf44234bfeb1941d88624efbdb",
            "fdbc4e876593415a983d4fb7106367a8",
            "7f944a080bf04dd09d516468ee11ca25",
            "121ffe23dbe14a9083d6be6f10e91247"
          ]
        },
        "id": "hwEc1jo_LC8-",
        "outputId": "10a3b81d-a851-4c6a-8ea9-88abd1eb213f"
      },
      "outputs": [
        {
          "output_type": "stream",
          "name": "stdout",
          "text": [
            "Cuda available\n",
            "Downloading http://yann.lecun.com/exdb/mnist/train-images-idx3-ubyte.gz\n",
            "Downloading http://yann.lecun.com/exdb/mnist/train-images-idx3-ubyte.gz to ./mnist_data/MNIST/raw/train-images-idx3-ubyte.gz\n"
          ]
        },
        {
          "output_type": "display_data",
          "data": {
            "text/plain": [
              "  0%|          | 0/9912422 [00:00<?, ?it/s]"
            ],
            "application/vnd.jupyter.widget-view+json": {
              "version_major": 2,
              "version_minor": 0,
              "model_id": "2865a105adaa499c9d0237f8b60e3a43"
            }
          },
          "metadata": {}
        },
        {
          "output_type": "stream",
          "name": "stdout",
          "text": [
            "Extracting ./mnist_data/MNIST/raw/train-images-idx3-ubyte.gz to ./mnist_data/MNIST/raw\n",
            "\n",
            "Downloading http://yann.lecun.com/exdb/mnist/train-labels-idx1-ubyte.gz\n",
            "Downloading http://yann.lecun.com/exdb/mnist/train-labels-idx1-ubyte.gz to ./mnist_data/MNIST/raw/train-labels-idx1-ubyte.gz\n"
          ]
        },
        {
          "output_type": "display_data",
          "data": {
            "text/plain": [
              "  0%|          | 0/28881 [00:00<?, ?it/s]"
            ],
            "application/vnd.jupyter.widget-view+json": {
              "version_major": 2,
              "version_minor": 0,
              "model_id": "2ccbf70f173243c9a0c1991df0142298"
            }
          },
          "metadata": {}
        },
        {
          "output_type": "stream",
          "name": "stdout",
          "text": [
            "Extracting ./mnist_data/MNIST/raw/train-labels-idx1-ubyte.gz to ./mnist_data/MNIST/raw\n",
            "\n",
            "Downloading http://yann.lecun.com/exdb/mnist/t10k-images-idx3-ubyte.gz\n",
            "Downloading http://yann.lecun.com/exdb/mnist/t10k-images-idx3-ubyte.gz to ./mnist_data/MNIST/raw/t10k-images-idx3-ubyte.gz\n"
          ]
        },
        {
          "output_type": "display_data",
          "data": {
            "text/plain": [
              "  0%|          | 0/1648877 [00:00<?, ?it/s]"
            ],
            "application/vnd.jupyter.widget-view+json": {
              "version_major": 2,
              "version_minor": 0,
              "model_id": "244f5eb23bae485da5e01a0a3eff23b9"
            }
          },
          "metadata": {}
        },
        {
          "output_type": "stream",
          "name": "stdout",
          "text": [
            "Extracting ./mnist_data/MNIST/raw/t10k-images-idx3-ubyte.gz to ./mnist_data/MNIST/raw\n",
            "\n",
            "Downloading http://yann.lecun.com/exdb/mnist/t10k-labels-idx1-ubyte.gz\n",
            "Downloading http://yann.lecun.com/exdb/mnist/t10k-labels-idx1-ubyte.gz to ./mnist_data/MNIST/raw/t10k-labels-idx1-ubyte.gz\n"
          ]
        },
        {
          "output_type": "display_data",
          "data": {
            "text/plain": [
              "  0%|          | 0/4542 [00:00<?, ?it/s]"
            ],
            "application/vnd.jupyter.widget-view+json": {
              "version_major": 2,
              "version_minor": 0,
              "model_id": "ce2cb524566a48efb4a31f93b3dfb079"
            }
          },
          "metadata": {}
        },
        {
          "output_type": "stream",
          "name": "stdout",
          "text": [
            "Extracting ./mnist_data/MNIST/raw/t10k-labels-idx1-ubyte.gz to ./mnist_data/MNIST/raw\n",
            "\n"
          ]
        }
      ],
      "source": [
        "import torch\n",
        "import torch.nn as nn\n",
        "import torch.nn.functional as F\n",
        "import torch.optim as optim\n",
        "from torchvision import datasets, transforms\n",
        "from torch.autograd import Variable\n",
        "from torchvision.utils import save_image\n",
        "\n",
        "import matplotlib.pyplot as plt\n",
        "import numpy as np\n",
        "\n",
        "if torch.cuda.is_available():\n",
        "    device = 'cuda'\n",
        "    print(\"Cuda available\")\n",
        "else:\n",
        "    device = 'cpu'\n",
        "    \n",
        "\n",
        "batch_size = 128\n",
        "\n",
        "# MNIST Dataset\n",
        "train_dataset = datasets.MNIST(root='./mnist_data/', train=True, transform=transforms.ToTensor(), download=True)\n",
        "test_dataset = datasets.MNIST(root='./mnist_data/', train=False, transform=transforms.ToTensor(), download=False)\n",
        "\n",
        "# Data Loader (Input Pipeline)\n",
        "train_loader = torch.utils.data.DataLoader(dataset=train_dataset, batch_size=batch_size, shuffle=False)\n",
        "test_loader = torch.utils.data.DataLoader(dataset=test_dataset, batch_size=batch_size, shuffle=False)"
      ]
    },
    {
      "cell_type": "code",
      "execution_count": 20,
      "metadata": {
        "colab": {
          "base_uri": "https://localhost:8080/"
        },
        "id": "7KoxSUeQLC9B",
        "outputId": "f208de98-941d-447b-eb09-2e499ba6ec39"
      },
      "outputs": [
        {
          "output_type": "execute_result",
          "data": {
            "text/plain": [
              "tensor([[0., 0., 0., 1., 0., 0., 0., 0., 0., 0.],\n",
              "        [0., 0., 0., 1., 0., 0., 0., 0., 0., 0.],\n",
              "        [0., 0., 0., 1., 0., 0., 0., 0., 0., 0.],\n",
              "        [0., 0., 0., 1., 0., 0., 0., 0., 0., 0.],\n",
              "        [0., 0., 0., 1., 0., 0., 0., 0., 0., 0.],\n",
              "        [0., 0., 0., 1., 0., 0., 0., 0., 0., 0.],\n",
              "        [0., 0., 0., 1., 0., 0., 0., 0., 0., 0.]])"
            ]
          },
          "metadata": {},
          "execution_count": 20
        }
      ],
      "source": [
        "#Converts label idx (n labels total) into one-hot encoding\n",
        "def idx2onehot(idx, n):\n",
        "\n",
        "    assert torch.max(idx).item() < n\n",
        "    if idx.dim() == 1:\n",
        "        idx = idx.unsqueeze(1)\n",
        "\n",
        "    onehot = torch.zeros(idx.size(0), n)\n",
        "    onehot.scatter_(1, idx, 1)\n",
        "\n",
        "    return onehot\n",
        "\n",
        "#example:\n",
        "idx2onehot(3*torch.ones(7, dtype=torch.long),n=10)"
      ]
    },
    {
      "cell_type": "markdown",
      "metadata": {
        "id": "UY0h_sqOLC9B"
      },
      "source": [
        "## Basics/Repetition  of VAE\n",
        "\n",
        "In the lecture we have shown that $$\\log p^*(x^{(i)}) \\ge  -  D_{KL}[p_E(z \\mid x^{(i)}) \\| p(z)] +\\mathbb{E}_{z\\sim p_E(z \\mid x^{(i)})} [\\log p_D (x^{(i)} \\mid z)] = -\\mathcal{L}(D, E, x^{(i)}),$$\n",
        "where $x^{(i)}\\in\\mathbb{R}^D$ is the $i$-th training instance (since the pixel values of MNIST images are in the range 0...1, we even have $x^{(i)}\\in[0,1]^D$ in this case). The LHS is the logarithm of the true data distribution, and the RHS is termed the \"evicence lower bound\" (ELBO).\n",
        "\n",
        "We call $p_E(z \\mid x)$ the encoder and $p_D( x \\mid z)$ the decoder. Both will be represented by neural networks. Our goal is to approximate $p^*(x)$ as well as possible by maximizing the ELBO or equivalently minimizing its negation. Specifically, we minimize $\\mathcal{L}(D, E, x^{(i)})$ with respect to the parameters of the decoder network $D$ and the encoder network $E$ via gradient descent over all training instances $i$. \n",
        "\n",
        "In order to estimate the negative ELBO, we approximate the expectation w.r.t. $z$ by its average over $L$ instances:\n",
        "\\begin{align} \\hat{\\mathcal{L}}(D, E, x^{(i)}) = D_{KL}\\left[p_E(z \\mid x^{(i)}) \\| p(z)\\right]+ \\frac{1}{L} \\sum_{l=1}^L \\left(-\\log p_D(x^{(i)} \\mid z^{(i,l)})\\right)\\end{align} \n",
        "where $z^{(i,l)} \\sim p_E(z \\mid x^{(i)}) $. By construction of a VAE, $p_E(z \\mid x^{(i)})$ is a Gaussian distribution whose mean $\\mu^{(i)}=\\mu_E(x^{(i)})$ and standard deviation $\\sigma^{(i)}=\\sigma_E(x^{(i)})$ are computed by the encoder network. For fixed $x^{(i)}$, we can draw samples $z^{(i,l)}$ from this code distribution by means of the reparametrization trick: \n",
        "$$z^{(i,l)}\\sim \\mathcal{N}\\big(\\mu^{(i)}, \\text{diag}(\\sigma^{(i)})^2\\big) \\Leftrightarrow  z^{(i,l)} = \\mu^{(i)} + \\epsilon_l \\cdot \\sigma^{(i)}$$ \n",
        "with $\\epsilon_l\\sim\\mathcal{N}(0, \\mathbb{I})$. Note that $\\mu^{(i)}$, $\\sigma^{(i)}$, and $\\epsilon_l$ are vectors of length equal to the dimension $J$ of the latent space, and $\\epsilon_l \\cdot \\sigma^{(i)}$ is element-wise multiplication. In practice, $L=1$ is usually sufficient so that the average over index $l$ becomes trivial.\n",
        "\n",
        "Furthermore, we assume that the latent prior is a standard normal distribution, i.e. $p(z) = \\mathcal{N}(0, \\mathbb{I})$. The KL-term for the two multivariate normal distributions can then be computed analytically:\n",
        "$$ D_{KL}\\left[p_E(z \\mid x^{(i)}) \\| p(z)\\right] = \\frac{1}{2} \\sum_{j=1}^J \\left((\\mu_j^{(i)})^2 + (\\sigma_j^{(i)})^2 - 2 \\log(\\sigma_j^{(i)}) - 1\\right) $$\n",
        "\n",
        "Likewise, we consider $p_D(x \\mid z)$ as a Gaussian distribution with mean $\\mu_D(z)$ and fixed covariance matrix $\\sigma_G^2\\cdot \\mathbb{I}$ (i.e. $\\sigma_G$ is the fixed noise standard deviation):\n",
        "$$ p_G(x \\mid z) = \\mathcal{N}\\big(\\mu_D(z), \\sigma_G^2\\cdot\\mathbb{I}\\big)$$\n",
        "To ensure that $\\mu_D(z) \\in [0,1]^D$ holds for reconstructed images (without noise), the decoder's output layer should use the sigmoid activation function. The second term in the negated ELBO (the negative log-likelihood) now reduces to the squared loss:\n",
        "$$-\\log p_D(x^{(i)} \\mid z^{(i,l)}) = \\frac{||x^{(i)} - \\mu_D(z^{(i,l)})||^2_2}{2 \\sigma_G^2}  + \\text{const.}$$\n",
        "The additive constant has no influence on the training optimimum and can be dropped. $\\sigma_G$ can be used as a hyperparameter to balance the two loss terms.\n",
        "\n",
        "For a batch of samples $X = (x^{(1)}, \\dots, x^{(M)})$, we finally get the negated ELBO as:\n",
        "\\begin{align} -ELBO = \\sum_{i=1}^M \\Big[&\\frac{1}{2} \\sum_{j=1}^J \\left((\\mu_j^{(i)})^2 + (\\sigma_j^{(i)})^2 - 2 \\log(\\sigma_j^{(i)}) - 1\\right) \\\\+& \\frac{1}{L} \\sum_{l=1}^L \\sum_{j=1}^D \\frac{(x^{(i)}_j - \\mu_D(z^{(i,l)})_j)^2}{2\\sigma_G^2}\\Big]\\end{align}\n",
        "Training is performed by gradient descent on this loss."
      ]
    },
    {
      "cell_type": "markdown",
      "metadata": {
        "id": "X8qgo9DeLC9E"
      },
      "source": [
        "## Task 1: Implementation of VAE and CVAE\n",
        "\n",
        "Complete the code below. The CVAE class consists of three parts\n",
        "* The Encoder class that implements $p_E (z \\mid x, y)$,\n",
        "* The Decoder class which implements $p_D (x \\mid z, y)$ and\n",
        "* The actual CVAE class that combines both encoder and decoder.\n",
        "\n",
        "The conditioning variable $y$ holds the labels, e.g. 0...9 for MNIST digits. It is added as an additional network input, i.e. the encoder computes $\\mu_E(x^{(i)}, y^{(i)})$ and $\\sigma_E(x^{(i)}, y^{(i)})$. The decoder produces the reconstruction `recon_x`=$\\mu_D(z^{(i)}, y^{(i)})$, where $z^{(i)}$ is sampled using the reparametrization trick explained above. \n",
        "\n",
        "Implement all three classes. The arguments and outputs for each method are given in the docstrings. Make sure the CVAE class implements both the conditional VAE (CVAE) and the plain VAE, where the latter is obtained if the number of labels is just 1. "
      ]
    },
    {
      "cell_type": "code",
      "source": [
        ""
      ],
      "metadata": {
        "colab": {
          "base_uri": "https://localhost:8080/"
        },
        "id": "_ypGef1mlBZd",
        "outputId": "5bbfdb10-229a-40df-caf7-dc31306322c8"
      },
      "execution_count": 29,
      "outputs": [
        {
          "output_type": "stream",
          "name": "stdout",
          "text": [
            "tensor(90.0171)\n",
            "tensor(90.0171)\n"
          ]
        }
      ]
    },
    {
      "cell_type": "code",
      "execution_count": 91,
      "metadata": {
        "id": "RUAtsS0-LC9F"
      },
      "outputs": [],
      "source": [
        "class CVAE(nn.Module):\n",
        "\n",
        "    def __init__(self, inp_dim, encoder_layer_sizes, decoder_layer_sizes, latent_dim, num_labels=10, conditional=False):\n",
        "        \"\"\"\n",
        "        Arguments:\n",
        "            inp_dim (int): dimension of input,\n",
        "            encoder_layer_sizes (list[int]): list of the sizes of the encoder layers,\n",
        "            decoder_layer_sizes (list[int]): list of the sizes of the decoder layers,\n",
        "            latent_dim (int): dimension of latent space/bottleneck,\n",
        "            num_labels (int): amount of labels (important for conditional VAE),,\n",
        "            conditional (bool): True if CVAE, else False\n",
        "\n",
        "        \"\"\"\n",
        "        \n",
        "        super(CVAE, self).__init__()\n",
        "        \n",
        "        self.latent_dim = latent_dim\n",
        "        self.num_labels = num_labels\n",
        "        \n",
        "        self.encoder = Encoder(encoder_layer_sizes, latent_dim, num_labels, conditional)\n",
        "        self.decoder = Decoder(decoder_layer_sizes, latent_dim, num_labels, conditional)\n",
        "        \n",
        "    def forward(self, x, c=None):\n",
        "        \"\"\"\n",
        "        Forward Process of whole VAE/CVAE. \n",
        "        Arguments:\n",
        "            x: tensor of dimension (batch_size, 1, 28, 28) or (batch_size, 28*28)\n",
        "            c: None or tensor of dimension (batch_size, 1)\n",
        "        Output: recon_x, means, log_var\n",
        "            recon_x: see explanation on second part of estimator above,\n",
        "            means: output of encoder,\n",
        "            log_var: output of encoder (logarithm of variance)\n",
        "        \"\"\"\n",
        "\n",
        "        ################################\n",
        "        # TODO: YOUR CODE STARTS BELOW #\n",
        "        ################################\n",
        "        \n",
        "        batch_size = x.size(0)\n",
        "\n",
        "        x = x.view(-1,784)\n",
        "        \n",
        "        means, log_var = self.encoder(x,c)\n",
        "        #use reparameterization to sample latent z from encoder distribution\n",
        "        epsilon = torch.randn([batch_size, latent_dim])\n",
        "        epsilon = epsilon.to(device)\n",
        "        std = torch.sqrt(torch.exp(log_var))\n",
        "        z = means + epsilon * std\n",
        "        recon_x = self.decoder(z, c)\n",
        "        ################################\n",
        "        #     YOUR CODE ENDS HERE      #\n",
        "        ################################\n",
        "\n",
        "        return recon_x, means, log_var\n",
        "        \n",
        "    def sampling(self, n=2, c=None):\n",
        "        \"\"\"\n",
        "        Generates new samples by feeding a random latent vector to the decoder.\n",
        "        Arguments:\n",
        "            n (int): amount of samples \n",
        "            c      : None or tensor of dimension (batch_size, 1) (labels to condition on)\n",
        "        Output:\n",
        "            x_sampled: n randomly sampled elements of the output distribution\n",
        "        \"\"\"\n",
        "        ################################\n",
        "        # TODO: YOUR CODE STARTS BELOW #\n",
        "        ################################\n",
        "        z = torch.randn([n, self.latent_dim])\n",
        "        z = z.to(device)\n",
        "\n",
        "        x_sampled = self.decoder(z,c)\n",
        "        ################################\n",
        "        #     YOUR CODE ENDS HERE      #\n",
        "        ################################\n",
        "        return x_sampled \n",
        "    \n",
        "class Encoder(nn.Module):\n",
        "\n",
        "    def __init__(self, layer_sizes, latent_dim, num_labels, conditional=False):\n",
        "        super(Encoder, self).__init__()\n",
        "        \"\"\"\n",
        "        Arguments:\n",
        "            layer_sizes (list[int]): list of sizes of layers of the encoder,\n",
        "            latent_dim (int): dimension of latent space, i.e. dimension out output of the encoder,\n",
        "            num_labels (int): amount of labels,\n",
        "            conditional (bool): True if CVAE and False if VAE\n",
        "        \"\"\"\n",
        "        \n",
        "        ################################\n",
        "        # TODO: YOUR CODE STARTS BELOW #\n",
        "        ################################\n",
        "        #hint: if conditional the input layersize needs to be increased for the additional one-hot vector input\n",
        "        self.conditional = conditional\n",
        "        if self.conditional == True:\n",
        "          layer_sizes[0] = layer_sizes[0] + num_labels\n",
        "\n",
        "        #construct sequential container to hold all layers\n",
        "        self.network = nn.Sequential()\n",
        "\n",
        "        #implement all following layers\n",
        "        for idx,layer in enumerate(layer_sizes):\n",
        "          if idx+1<len(layer_sizes):\n",
        "            self.network.add_module(name=f\"layer{idx+1}\", module = nn.Linear(layer_sizes[idx], layer_sizes[idx+1]))\n",
        "            self.network.add_module(name=f\"relu{idx+1}\", module = nn.ReLU())\n",
        "\n",
        "        #implementation of last layer (output) with sigmoid function\n",
        "        self.layer_means = nn.Linear(layer_sizes[-1], latent_dim)\n",
        "        self.layer_log_var = nn.Linear(layer_sizes[-1], latent_dim)\n",
        "        \n",
        "\n",
        "        ################################\n",
        "        #     YOUR CODE ENDS HERE      #\n",
        "        ################################\n",
        "    \n",
        "    def forward(self, x, c=None):  \n",
        "        \"\"\"\n",
        "        Arguments:\n",
        "            x: tensor of dimension (batch_size, 1, 28, 28) or (batch_size, 28*28)\n",
        "            c: None or tensor of dimension (batch_size, 1)\n",
        "        Output:\n",
        "            means: tensor of dimension (batch_size, latent_dim),\n",
        "            log_var: tensor of dimension (batch_size, latent_dim)\n",
        "        \"\"\"\n",
        "        ################################\n",
        "        # TODO: YOUR CODE STARTS BELOW #\n",
        "        ################################\n",
        "        #Hint: convert condition c into one-hot encoding\n",
        "        #convert c and concatenate it to x\n",
        "        if self.conditional == True:\n",
        "          c = idx2onehot(c ,n=10)\n",
        "          c = c.to(device)\n",
        "          x = torch.cat((x,c), dim=-1)\n",
        "\n",
        "        #pass input x through whole network container (excluding last layers)\n",
        "        x = self.network(x)\n",
        "        #get final output\n",
        "        means = self.layer_means(x)\n",
        "        log_vars = self.layer_log_var(x)\n",
        "        \n",
        "        \n",
        "        ################################\n",
        "        #     YOUR CODE ENDS HERE      #\n",
        "        ################################        \n",
        "        return means, log_vars\n",
        "    \n",
        "    \n",
        "class Decoder(nn.Module):\n",
        "\n",
        "    def __init__(self, layer_sizes, latent_dim, num_labels, conditional=False):     \n",
        "        super(Decoder, self).__init__()\n",
        "        \"\"\"\n",
        "        Arguments:\n",
        "            layer_sizes (list[int]): list of sizes of layers of the decoder,\n",
        "            latent_dim (int): dimension of latent space, i.e. dimension out input of the decoder,\n",
        "            num_labels (int): amount of labels,\n",
        "            conditional (bool): True if CVAE and False if VAE\n",
        "        Output:\n",
        "            x: Parameters of gaussian distribution; only mu (see above)\n",
        "        \"\"\"\n",
        "\n",
        "        ################################\n",
        "        # TODO: YOUR CODE STARTS BELOW #\n",
        "        ################################\n",
        "        #hint: if conditional is True, the input layersize needs to be increased for the additional one-hot vector input\n",
        "        #implementation similar to encoder\n",
        "        self.conditional = conditional\n",
        "        if self.conditional == True:\n",
        "          latent_output = latent_dim + num_labels\n",
        "        else:\n",
        "          latent_output = latent_dim\n",
        "\n",
        "        #construct sequential container to hold all layers\n",
        "        self.network = nn.Sequential()\n",
        "\n",
        "       #implement first layer\n",
        "        self.layer0 = nn.Linear(latent_output, layer_sizes[0])\n",
        "\n",
        "        #implement all following layers\n",
        "        for idx,layer in enumerate(layer_sizes):\n",
        "          if idx+1<len(layer_sizes):\n",
        "            self.network.add_module(name=f\"layer{idx+1}\", module = nn.Linear(layer_sizes[idx], layer_sizes[idx+1]))\n",
        "            self.network.add_module(name=f\"relu{idx+1}\", module = nn.ReLU())\n",
        "\n",
        "        #implementation of last layer\n",
        "        self.layer_means = nn.Sigmoid()\n",
        "\n",
        "        \n",
        "        ################################\n",
        "        #     YOUR CODE ENDS HERE      #\n",
        "        ################################\n",
        "            \n",
        "    def forward(self, z, c=None):\n",
        "        \"\"\"\n",
        "        Argumetns:\n",
        "            z: tensor of dimension (batch_size, latent_dim)\n",
        "            c: None or tensor of dimension (batch_size, 1)\n",
        "        Outputs:\n",
        "            x: mu of gaussian distribution (reconstructed image from latent code z)\n",
        "        \"\"\"\n",
        "        ################################\n",
        "        # TODO: YOUR CODE STARTS BELOW #\n",
        "        ################################\n",
        "        #Hint: convert condition c into one-hot encoding\n",
        "        #convert c and concatenate it to z\n",
        "        if self.conditional == True:\n",
        "          c = idx2onehot(c ,n=10)\n",
        "          c = c.to(device)\n",
        "          z = torch.cat((z,c), dim=-1)\n",
        "\n",
        "        #pass input z through whole network container\n",
        "        z = self.layer0(z)\n",
        "        x = self.network(z)\n",
        "        \n",
        "        ################################\n",
        "        #     YOUR CODE ENDS HERE      #\n",
        "        ################################\n",
        "\n",
        "        return x"
      ]
    },
    {
      "cell_type": "markdown",
      "metadata": {
        "id": "KmMpcnNVLC9G"
      },
      "source": [
        "### Loss Function\n",
        "\n",
        "We want to minimize the negated ELBO loss:\n",
        "$$\\hat{\\mathcal{L}}(D, E, x^{(i)}) = D_{KL}\\left[p_E(z \\mid x^{(i)}) \\| p(z)\\right]+ \\frac{1}{L} \\sum_{l=1}^L \\left(-\\log p_D(x^{(i)} \\mid z^{(i,l)})\\right)$$\n",
        "where $L=1$. The `loss_function` should implement this estimator, expanding the two terms as explained above.\n",
        "* Implement the loss function\n",
        "* Comment/explain how your code arises from the formula above.\n",
        "\n",
        "Hint: Use the following choice of hyperparameter $\\sigma_G = 1$."
      ]
    },
    {
      "cell_type": "code",
      "execution_count": 75,
      "metadata": {
        "id": "BIGax3yjLC9H"
      },
      "outputs": [],
      "source": [
        "# Implement the Loss function for the VAE/CVAE\n",
        "def loss_function(recon_x, x, mu, log_var):\n",
        "    \"\"\"\n",
        "    Arguments:\n",
        "        recon_x: reconstruced input\n",
        "        x: input,\n",
        "        mu, log_var: parameters of posterior (distribution of z given x)\n",
        "    \"\"\"\n",
        "    ################################\n",
        "    # TODO: YOUR CODE STARTS BELOW #\n",
        "    ################################\n",
        "    x = x.view(-1, 28*28)\n",
        "\n",
        "    loss = 0.5 * torch.sum(mu**2 + log_var.exp() - log_var - 1)/x.shape[0] + torch.mean(0.5 * torch.sum((x-recon_x)**2, 1))\n",
        "\n",
        "    return loss\n",
        "    \n",
        "    ################################\n",
        "    #     YOUR CODE ENDS HERE      #\n",
        "    ################################"
      ]
    },
    {
      "cell_type": "markdown",
      "source": [
        "Code arises in the following way:\n",
        "\n",
        "\n",
        "For a batch of samples $X = (x^{(1)}, \\dots, x^{(M)})$, we finally get the negated ELBO as:\n",
        "\\begin{align} -ELBO = \\sum_{i=1}^M \\Big[&\\frac{1}{2} \\sum_{j=1}^J \\left((\\mu_j^{(i)})^2 + (\\sigma_j^{(i)})^2 - 2 \\log(\\sigma_j^{(i)}) - 1\\right) \\\\+& \\frac{1}{L} \\sum_{l=1}^L \\sum_{j=1}^D \\frac{(x^{(i)}_j - \\mu_D(z^{(i,l)})_j)^2}{2\\sigma_G^2}\\Big]\\end{align}\n",
        "Training is performed by gradient descent on this loss.\n",
        "\n",
        "For choosing $L=1$ and $\\sigma_G^2 = 1$, this simplifies to: \n",
        "\n",
        "\\begin{align} -ELBO = \\sum_{i=1}^M \\Big[&\\frac{1}{2} \\sum_{j=1}^J \\left((\\mu_j^{(i)})^2 + (\\sigma_j^{(i)})^2 - 2 \\log(\\sigma_j^{(i)}) - 1\\right) \\\\+& \\sum_{j=1}^D \\frac{(x^{(i)}_j - \\mu_D(z^{(i,l)})_j)^2}{2}\\Big]\\end{align}\n",
        "\n",
        "The second term is implemented in the torch.mean function, summing over the first dimension of x and recon_x.\n",
        "\n",
        "The first term is implemented by calculating std from log_var and then summing over the first dimension.\n",
        "\n",
        "I implemented not directly the fomula written above, but the one in the lecture where we use the variance also in the log and not the std as written in the formula given here since this formula gave a bad performance.\n",
        "\n",
        "Exercise sheet formula: \n",
        "\n",
        "\n",
        "\\begin{align} -ELBO = \\sum_{i=1}^M \\Big[&\\frac{1}{2} \\sum_{j=1}^J \\left((\\mu_j^{(i)})^2 + (\\sigma_j^{(i)})^2 - 2 \\log(\\sigma_j^{(i)})^2 - 1\\right) \\\\+& \\sum_{j=1}^D \\frac{(x^{(i)}_j - \\mu_D(z^{(i,l)})_j)^2}{2}\\Big]\\end{align}\n",
        "\n",
        "<font color='blue'><strong>Which of the formulas is correct, the one from the lecture or the one from the exercise sheet? I also needed to divide over the number of samples in the kld term which was not present in the formula, should this also be added to the formula?</strong></font>\n"
      ],
      "metadata": {
        "id": "wvlttnSAysrz"
      }
    },
    {
      "cell_type": "markdown",
      "metadata": {
        "id": "iV4K2KSgLC9H"
      },
      "source": [
        "### Training of VAE\n",
        "Before we can do funny things with our VAE, we train it with a bottleneck size of two. If everything has been implemented correctly, you should obtain an VAE after a few epochs that is able to generate recognizable MNIST samples. \n",
        "\n",
        "The amount of layers as well as their dimensions do not have to be changed throughout this exercise. Better results might by achieved by searching for different hyperparameters.\n",
        "* Simply run the code to train the VAE"
      ]
    },
    {
      "cell_type": "code",
      "execution_count": 79,
      "metadata": {
        "colab": {
          "base_uri": "https://localhost:8080/"
        },
        "id": "rZPWn9_zLC9I",
        "outputId": "896e1e8a-f3e4-4e33-fcc1-58baa24bcb33"
      },
      "outputs": [
        {
          "output_type": "stream",
          "name": "stdout",
          "text": [
            "Train Epoch: 0 [0/60000 (0%)]\tLoss: 21.018410\n",
            "Train Epoch: 0 [12800/60000 (21%)]\tLoss: 12.759501\n",
            "Train Epoch: 0 [25600/60000 (43%)]\tLoss: 13.268714\n",
            "Train Epoch: 0 [38400/60000 (64%)]\tLoss: 11.612599\n",
            "Train Epoch: 0 [51200/60000 (85%)]\tLoss: 13.320406\n",
            "====> Epoch: 0 Average loss: 0.2015\n",
            "Train Epoch: 1 [0/60000 (0%)]\tLoss: 11.908723\n",
            "Train Epoch: 1 [12800/60000 (21%)]\tLoss: 11.940440\n",
            "Train Epoch: 1 [25600/60000 (43%)]\tLoss: 12.110125\n",
            "Train Epoch: 1 [38400/60000 (64%)]\tLoss: 11.354757\n",
            "Train Epoch: 1 [51200/60000 (85%)]\tLoss: 12.416795\n",
            "====> Epoch: 1 Average loss: 0.1885\n",
            "Train Epoch: 2 [0/60000 (0%)]\tLoss: 11.523178\n",
            "Train Epoch: 2 [12800/60000 (21%)]\tLoss: 11.387609\n",
            "Train Epoch: 2 [25600/60000 (43%)]\tLoss: 11.778190\n",
            "Train Epoch: 2 [38400/60000 (64%)]\tLoss: 11.111639\n",
            "Train Epoch: 2 [51200/60000 (85%)]\tLoss: 12.146364\n",
            "====> Epoch: 2 Average loss: 0.1842\n",
            "Train Epoch: 3 [0/60000 (0%)]\tLoss: 11.174753\n",
            "Train Epoch: 3 [12800/60000 (21%)]\tLoss: 11.203423\n",
            "Train Epoch: 3 [25600/60000 (43%)]\tLoss: 11.636654\n",
            "Train Epoch: 3 [38400/60000 (64%)]\tLoss: 10.812264\n",
            "Train Epoch: 3 [51200/60000 (85%)]\tLoss: 11.999494\n",
            "====> Epoch: 3 Average loss: 0.1811\n",
            "Train Epoch: 4 [0/60000 (0%)]\tLoss: 11.058702\n",
            "Train Epoch: 4 [12800/60000 (21%)]\tLoss: 11.115023\n",
            "Train Epoch: 4 [25600/60000 (43%)]\tLoss: 11.485227\n",
            "Train Epoch: 4 [38400/60000 (64%)]\tLoss: 10.768825\n",
            "Train Epoch: 4 [51200/60000 (85%)]\tLoss: 11.799763\n",
            "====> Epoch: 4 Average loss: 0.1793\n",
            "Train Epoch: 5 [0/60000 (0%)]\tLoss: 10.978747\n",
            "Train Epoch: 5 [12800/60000 (21%)]\tLoss: 11.068129\n",
            "Train Epoch: 5 [25600/60000 (43%)]\tLoss: 11.372643\n",
            "Train Epoch: 5 [38400/60000 (64%)]\tLoss: 10.762586\n",
            "Train Epoch: 5 [51200/60000 (85%)]\tLoss: 11.890425\n",
            "====> Epoch: 5 Average loss: 0.1781\n",
            "Train Epoch: 6 [0/60000 (0%)]\tLoss: 10.829090\n",
            "Train Epoch: 6 [12800/60000 (21%)]\tLoss: 10.895315\n",
            "Train Epoch: 6 [25600/60000 (43%)]\tLoss: 11.391773\n",
            "Train Epoch: 6 [38400/60000 (64%)]\tLoss: 10.708711\n",
            "Train Epoch: 6 [51200/60000 (85%)]\tLoss: 11.757891\n",
            "====> Epoch: 6 Average loss: 0.1770\n",
            "Train Epoch: 7 [0/60000 (0%)]\tLoss: 10.768427\n",
            "Train Epoch: 7 [12800/60000 (21%)]\tLoss: 11.009923\n",
            "Train Epoch: 7 [25600/60000 (43%)]\tLoss: 11.147680\n",
            "Train Epoch: 7 [38400/60000 (64%)]\tLoss: 10.572323\n",
            "Train Epoch: 7 [51200/60000 (85%)]\tLoss: 11.600130\n",
            "====> Epoch: 7 Average loss: 0.1761\n",
            "Train Epoch: 8 [0/60000 (0%)]\tLoss: 10.818746\n",
            "Train Epoch: 8 [12800/60000 (21%)]\tLoss: 10.803776\n",
            "Train Epoch: 8 [25600/60000 (43%)]\tLoss: 11.267382\n",
            "Train Epoch: 8 [38400/60000 (64%)]\tLoss: 10.461348\n",
            "Train Epoch: 8 [51200/60000 (85%)]\tLoss: 11.593277\n",
            "====> Epoch: 8 Average loss: 0.1754\n",
            "Train Epoch: 9 [0/60000 (0%)]\tLoss: 10.852697\n",
            "Train Epoch: 9 [12800/60000 (21%)]\tLoss: 10.917053\n",
            "Train Epoch: 9 [25600/60000 (43%)]\tLoss: 11.120950\n",
            "Train Epoch: 9 [38400/60000 (64%)]\tLoss: 10.592386\n",
            "Train Epoch: 9 [51200/60000 (85%)]\tLoss: 11.531052\n",
            "====> Epoch: 9 Average loss: 0.1747\n",
            "Train Epoch: 10 [0/60000 (0%)]\tLoss: 10.727194\n",
            "Train Epoch: 10 [12800/60000 (21%)]\tLoss: 10.787518\n",
            "Train Epoch: 10 [25600/60000 (43%)]\tLoss: 11.096286\n",
            "Train Epoch: 10 [38400/60000 (64%)]\tLoss: 10.536285\n",
            "Train Epoch: 10 [51200/60000 (85%)]\tLoss: 11.458741\n",
            "====> Epoch: 10 Average loss: 0.1741\n",
            "Train Epoch: 11 [0/60000 (0%)]\tLoss: 10.460633\n",
            "Train Epoch: 11 [12800/60000 (21%)]\tLoss: 10.789583\n",
            "Train Epoch: 11 [25600/60000 (43%)]\tLoss: 11.106131\n",
            "Train Epoch: 11 [38400/60000 (64%)]\tLoss: 10.529505\n",
            "Train Epoch: 11 [51200/60000 (85%)]\tLoss: 11.503029\n",
            "====> Epoch: 11 Average loss: 0.1735\n",
            "Train Epoch: 12 [0/60000 (0%)]\tLoss: 10.617113\n",
            "Train Epoch: 12 [12800/60000 (21%)]\tLoss: 10.801678\n",
            "Train Epoch: 12 [25600/60000 (43%)]\tLoss: 11.083385\n",
            "Train Epoch: 12 [38400/60000 (64%)]\tLoss: 10.431213\n",
            "Train Epoch: 12 [51200/60000 (85%)]\tLoss: 11.526487\n",
            "====> Epoch: 12 Average loss: 0.1732\n",
            "Train Epoch: 13 [0/60000 (0%)]\tLoss: 10.700113\n",
            "Train Epoch: 13 [12800/60000 (21%)]\tLoss: 10.877164\n",
            "Train Epoch: 13 [25600/60000 (43%)]\tLoss: 11.074735\n",
            "Train Epoch: 13 [38400/60000 (64%)]\tLoss: 10.382431\n",
            "Train Epoch: 13 [51200/60000 (85%)]\tLoss: 11.422321\n",
            "====> Epoch: 13 Average loss: 0.1727\n",
            "Train Epoch: 14 [0/60000 (0%)]\tLoss: 10.518138\n",
            "Train Epoch: 14 [12800/60000 (21%)]\tLoss: 10.803472\n",
            "Train Epoch: 14 [25600/60000 (43%)]\tLoss: 11.036951\n",
            "Train Epoch: 14 [38400/60000 (64%)]\tLoss: 10.409015\n",
            "Train Epoch: 14 [51200/60000 (85%)]\tLoss: 11.376787\n",
            "====> Epoch: 14 Average loss: 0.1723\n"
          ]
        }
      ],
      "source": [
        "encoder_layer_sizes = [784, 512, 256]\n",
        "decoder_layer_sizes = [256, 512, 784]\n",
        "\n",
        "latent_dim = 2 \n",
        "vae = CVAE(inp_dim=784, encoder_layer_sizes=encoder_layer_sizes, decoder_layer_sizes=decoder_layer_sizes, latent_dim=latent_dim)\n",
        "vae = vae.to(device)\n",
        "optimizer = optim.Adam(vae.parameters(), lr=1e-3)\n",
        "\n",
        "# Training of the VAE\n",
        "def train(epoch):\n",
        "    vae.train()\n",
        "    train_loss = 0\n",
        "    for batch_idx, data in enumerate(train_loader):\n",
        "        x, y = data\n",
        "        x = x.to(device)\n",
        "        optimizer.zero_grad()\n",
        "        \n",
        "        recon_batch,  mu, log_var = vae(x)\n",
        "        loss = loss_function(recon_batch,  x, mu, log_var)\n",
        "        \n",
        "        loss.backward()\n",
        "        train_loss += loss.item()\n",
        "        optimizer.step()\n",
        "        \n",
        "        if batch_idx % 100 == 0:\n",
        "            print('Train Epoch: {} [{}/{} ({:.0f}%)]\\tLoss: {:.6f}'.format(\n",
        "                epoch, batch_idx * len(x), len(train_loader.dataset),\n",
        "                100. * batch_idx / len(train_loader), loss.item() / len(data)))\n",
        "    print('====> Epoch: {} Average loss: {:.4f}'.format(epoch, train_loss / len(train_loader.dataset)))\n",
        "    \n",
        "epochs = 15 \n",
        "for epoch in range(epochs):\n",
        "    train(epoch)  "
      ]
    },
    {
      "cell_type": "markdown",
      "metadata": {
        "id": "5eJyfz25LC9I"
      },
      "source": [
        "### Sanity Check VAE\n",
        "Your model should be able to reproduce the input image, i.e. the output of the VAE should look similar to be input. \n",
        " \n",
        "* Run the code to check if your model worked\n",
        "* How are the reconstructions different from the original?"
      ]
    },
    {
      "cell_type": "code",
      "execution_count": 84,
      "metadata": {
        "colab": {
          "base_uri": "https://localhost:8080/",
          "height": 269
        },
        "id": "P3uFj9nQLC9J",
        "outputId": "bd3c039f-9f65-48bf-cbd8-7bcb93d4a55f"
      },
      "outputs": [
        {
          "output_type": "stream",
          "name": "stdout",
          "text": [
            "Original             Reconstructed\n"
          ]
        },
        {
          "output_type": "display_data",
          "data": {
            "text/plain": [
              "<Figure size 432x288 with 8 Axes>"
            ],
            "image/png": "[encoded data removed]"
          },
          "metadata": {}
        }
      ],
      "source": [
        "def imshow(img):\n",
        "    npimg = img.cpu().numpy()\n",
        "    plt.imshow(npimg, vmin=0, vmax=1, cmap='gray')\n",
        "    plt.xticks([])\n",
        "    plt.yticks([])\n",
        "    \n",
        "_, x= next(enumerate(train_loader))\n",
        "samples = x[0].to(device)[30:]\n",
        "samples_rec,   _, _ = vae(samples)\n",
        "samples_rec = samples_rec.detach().cpu().view(-1,28,28)\n",
        "print(\"Original             Reconstructed\")\n",
        "for i in range(0, 4):\n",
        "  plt.subplot(4,2,2*i+1)\n",
        "  imshow(samples[i,0])\n",
        "    \n",
        "  plt.subplot(4, 2, 2*i+2)\n",
        "  imshow(samples_rec[i])"
      ]
    },
    {
      "cell_type": "markdown",
      "source": [
        "Answer: The reconstructions are blurrier than the original digits; they also do not capture exact characteristics of the input writing, but represent more of an idealized digit."
      ],
      "metadata": {
        "id": "IGaHkQ-a-lns"
      }
    },
    {
      "cell_type": "markdown",
      "metadata": {
        "id": "kKcWbyeCLC9J"
      },
      "source": [
        "Your model should be able to generate images that look similar to the samples of the MNIST dataset.\n",
        "* Run the code\n",
        "* Describe what you see"
      ]
    },
    {
      "cell_type": "code",
      "execution_count": 85,
      "metadata": {
        "colab": {
          "base_uri": "https://localhost:8080/",
          "height": 284
        },
        "id": "O5tx3Kk2LC9J",
        "outputId": "273c9ff2-eeab-4a6c-bf73-b63a8a7c0928"
      },
      "outputs": [
        {
          "output_type": "display_data",
          "data": {
            "text/plain": [
              "<Figure size 432x288 with 9 Axes>"
            ],
            "image/png": "[encoded data removed]"
          },
          "metadata": {}
        }
      ],
      "source": [
        "for i in range(1, 10):\n",
        "    plt.subplot(3,3,i)\n",
        "    sample = vae.sampling(n=1).detach().view(-1,28,28).cpu()\n",
        "    plt.tight_layout()\n",
        "    imshow(sample[0])\n",
        "    plt.xticks([])\n",
        "    plt.yticks([])"
      ]
    },
    {
      "cell_type": "markdown",
      "source": [
        "Answer: Similar to the statement above, the digits are blurry due to the squared loss in the loss function, due to which the VAE cannot differentiate between sharp edges and noise.\n",
        "\n",
        "The generated also represent idealized versions of the digits; for example, the two 9's look very similar, as do the two 3's."
      ],
      "metadata": {
        "id": "zInqij21GhW8"
      }
    },
    {
      "cell_type": "markdown",
      "metadata": {
        "id": "PMhCqG5YLC9K"
      },
      "source": [
        "### Training a second VAE with larger latent space dimension\n",
        "Note that the quality of the reconstruction will also depend on the dimension of the latent space. To explore this, train a second model called `vae2` and use it to reconstruct a few example digits to evaluate the change in quality. Comment on your findings."
      ]
    },
    {
      "cell_type": "code",
      "execution_count": 86,
      "metadata": {
        "colab": {
          "base_uri": "https://localhost:8080/"
        },
        "id": "jIvWh9wYLC9K",
        "outputId": "e56a2f1e-d7bd-46dd-e268-9765b918b849"
      },
      "outputs": [
        {
          "output_type": "stream",
          "name": "stdout",
          "text": [
            "Train Epoch: 0 [0/60000 (0%)]\tLoss: 20.594269\n",
            "Train Epoch: 0 [12800/60000 (21%)]\tLoss: 12.584278\n",
            "Train Epoch: 0 [25600/60000 (43%)]\tLoss: 12.164621\n",
            "Train Epoch: 0 [38400/60000 (64%)]\tLoss: 10.782818\n",
            "Train Epoch: 0 [51200/60000 (85%)]\tLoss: 11.181517\n",
            "====> Epoch: 0 Average loss: 0.1878\n",
            "Train Epoch: 1 [0/60000 (0%)]\tLoss: 10.784296\n",
            "Train Epoch: 1 [12800/60000 (21%)]\tLoss: 10.549530\n",
            "Train Epoch: 1 [25600/60000 (43%)]\tLoss: 10.907987\n",
            "Train Epoch: 1 [38400/60000 (64%)]\tLoss: 10.076027\n",
            "Train Epoch: 1 [51200/60000 (85%)]\tLoss: 11.117811\n",
            "====> Epoch: 1 Average loss: 0.1678\n",
            "Train Epoch: 2 [0/60000 (0%)]\tLoss: 10.224636\n",
            "Train Epoch: 2 [12800/60000 (21%)]\tLoss: 10.191878\n",
            "Train Epoch: 2 [25600/60000 (43%)]\tLoss: 10.663723\n",
            "Train Epoch: 2 [38400/60000 (64%)]\tLoss: 9.903458\n",
            "Train Epoch: 2 [51200/60000 (85%)]\tLoss: 10.548399\n",
            "====> Epoch: 2 Average loss: 0.1637\n",
            "Train Epoch: 3 [0/60000 (0%)]\tLoss: 10.010739\n",
            "Train Epoch: 3 [12800/60000 (21%)]\tLoss: 10.217628\n",
            "Train Epoch: 3 [25600/60000 (43%)]\tLoss: 10.472647\n",
            "Train Epoch: 3 [38400/60000 (64%)]\tLoss: 9.791716\n",
            "Train Epoch: 3 [51200/60000 (85%)]\tLoss: 10.368244\n",
            "====> Epoch: 3 Average loss: 0.1616\n",
            "Train Epoch: 4 [0/60000 (0%)]\tLoss: 9.749195\n",
            "Train Epoch: 4 [12800/60000 (21%)]\tLoss: 10.113445\n",
            "Train Epoch: 4 [25600/60000 (43%)]\tLoss: 10.472164\n",
            "Train Epoch: 4 [38400/60000 (64%)]\tLoss: 9.862081\n",
            "Train Epoch: 4 [51200/60000 (85%)]\tLoss: 10.362897\n",
            "====> Epoch: 4 Average loss: 0.1601\n",
            "Train Epoch: 5 [0/60000 (0%)]\tLoss: 9.740695\n",
            "Train Epoch: 5 [12800/60000 (21%)]\tLoss: 9.956165\n",
            "Train Epoch: 5 [25600/60000 (43%)]\tLoss: 10.350796\n",
            "Train Epoch: 5 [38400/60000 (64%)]\tLoss: 9.618845\n",
            "Train Epoch: 5 [51200/60000 (85%)]\tLoss: 10.372283\n",
            "====> Epoch: 5 Average loss: 0.1591\n",
            "Train Epoch: 6 [0/60000 (0%)]\tLoss: 9.715618\n",
            "Train Epoch: 6 [12800/60000 (21%)]\tLoss: 10.015155\n",
            "Train Epoch: 6 [25600/60000 (43%)]\tLoss: 10.255168\n",
            "Train Epoch: 6 [38400/60000 (64%)]\tLoss: 9.500460\n",
            "Train Epoch: 6 [51200/60000 (85%)]\tLoss: 10.243869\n",
            "====> Epoch: 6 Average loss: 0.1585\n",
            "Train Epoch: 7 [0/60000 (0%)]\tLoss: 9.509755\n",
            "Train Epoch: 7 [12800/60000 (21%)]\tLoss: 9.935761\n",
            "Train Epoch: 7 [25600/60000 (43%)]\tLoss: 10.215607\n",
            "Train Epoch: 7 [38400/60000 (64%)]\tLoss: 9.713167\n",
            "Train Epoch: 7 [51200/60000 (85%)]\tLoss: 10.334293\n",
            "====> Epoch: 7 Average loss: 0.1579\n",
            "Train Epoch: 8 [0/60000 (0%)]\tLoss: 9.614929\n",
            "Train Epoch: 8 [12800/60000 (21%)]\tLoss: 9.961951\n",
            "Train Epoch: 8 [25600/60000 (43%)]\tLoss: 10.092091\n",
            "Train Epoch: 8 [38400/60000 (64%)]\tLoss: 9.530035\n",
            "Train Epoch: 8 [51200/60000 (85%)]\tLoss: 9.933287\n",
            "====> Epoch: 8 Average loss: 0.1567\n",
            "Train Epoch: 9 [0/60000 (0%)]\tLoss: 9.515524\n",
            "Train Epoch: 9 [12800/60000 (21%)]\tLoss: 9.834032\n",
            "Train Epoch: 9 [25600/60000 (43%)]\tLoss: 10.165071\n",
            "Train Epoch: 9 [38400/60000 (64%)]\tLoss: 9.428946\n",
            "Train Epoch: 9 [51200/60000 (85%)]\tLoss: 10.199663\n",
            "====> Epoch: 9 Average loss: 0.1556\n",
            "Train Epoch: 10 [0/60000 (0%)]\tLoss: 9.486188\n",
            "Train Epoch: 10 [12800/60000 (21%)]\tLoss: 9.947451\n",
            "Train Epoch: 10 [25600/60000 (43%)]\tLoss: 10.023911\n",
            "Train Epoch: 10 [38400/60000 (64%)]\tLoss: 9.481271\n",
            "Train Epoch: 10 [51200/60000 (85%)]\tLoss: 9.954185\n",
            "====> Epoch: 10 Average loss: 0.1551\n",
            "Train Epoch: 11 [0/60000 (0%)]\tLoss: 9.278975\n",
            "Train Epoch: 11 [12800/60000 (21%)]\tLoss: 9.822172\n",
            "Train Epoch: 11 [25600/60000 (43%)]\tLoss: 10.072466\n",
            "Train Epoch: 11 [38400/60000 (64%)]\tLoss: 9.254919\n",
            "Train Epoch: 11 [51200/60000 (85%)]\tLoss: 9.972993\n",
            "====> Epoch: 11 Average loss: 0.1548\n",
            "Train Epoch: 12 [0/60000 (0%)]\tLoss: 9.307337\n",
            "Train Epoch: 12 [12800/60000 (21%)]\tLoss: 9.726849\n",
            "Train Epoch: 12 [25600/60000 (43%)]\tLoss: 10.080021\n",
            "Train Epoch: 12 [38400/60000 (64%)]\tLoss: 9.385471\n",
            "Train Epoch: 12 [51200/60000 (85%)]\tLoss: 10.096239\n",
            "====> Epoch: 12 Average loss: 0.1545\n",
            "Train Epoch: 13 [0/60000 (0%)]\tLoss: 9.365203\n",
            "Train Epoch: 13 [12800/60000 (21%)]\tLoss: 9.812327\n",
            "Train Epoch: 13 [25600/60000 (43%)]\tLoss: 9.940219\n",
            "Train Epoch: 13 [38400/60000 (64%)]\tLoss: 9.341707\n",
            "Train Epoch: 13 [51200/60000 (85%)]\tLoss: 9.924226\n",
            "====> Epoch: 13 Average loss: 0.1543\n",
            "Train Epoch: 14 [0/60000 (0%)]\tLoss: 9.336611\n",
            "Train Epoch: 14 [12800/60000 (21%)]\tLoss: 9.618999\n",
            "Train Epoch: 14 [25600/60000 (43%)]\tLoss: 10.070337\n",
            "Train Epoch: 14 [38400/60000 (64%)]\tLoss: 9.459685\n",
            "Train Epoch: 14 [51200/60000 (85%)]\tLoss: 10.020835\n",
            "====> Epoch: 14 Average loss: 0.1541\n"
          ]
        }
      ],
      "source": [
        "########\n",
        "encoder_layer_sizes = [784, 512, 256]\n",
        "decoder_layer_sizes = [256, 512, 784]\n",
        "\n",
        "latent_dim = 16 \n",
        "vae2 = CVAE(inp_dim=784, encoder_layer_sizes=encoder_layer_sizes, decoder_layer_sizes=decoder_layer_sizes, latent_dim=latent_dim)\n",
        "vae2 = vae2.to(device)\n",
        "optimizer = optim.Adam(vae2.parameters(), lr=1e-3)\n",
        "\n",
        "epochs = 15 \n",
        "for epoch in range(epochs):\n",
        "    train(epoch) \n",
        "########"
      ]
    },
    {
      "cell_type": "code",
      "source": [
        "def imshow(img):\n",
        "    npimg = img.cpu().numpy()\n",
        "    plt.imshow(npimg, vmin=0, vmax=1, cmap='gray')\n",
        "    plt.xticks([])\n",
        "    plt.yticks([])\n",
        "    \n",
        "_, x= next(enumerate(train_loader))\n",
        "samples = x[0].to(device)[30:]\n",
        "samples_rec,   _, _ = vae2(samples)\n",
        "samples_rec = samples_rec.detach().cpu().view(-1,28,28)\n",
        "print(\"Original             Reconstructed\")\n",
        "for i in range(0, 4):\n",
        "  plt.subplot(4,2,2*i+1)\n",
        "  imshow(samples[i,0])\n",
        "    \n",
        "  plt.subplot(4, 2, 2*i+2)\n",
        "  imshow(samples_rec[i])"
      ],
      "metadata": {
        "colab": {
          "base_uri": "https://localhost:8080/",
          "height": 269
        },
        "id": "4tu68OSxHmVE",
        "outputId": "9268ce3d-91ab-4f97-8aaa-1cb7acf54938"
      },
      "execution_count": 87,
      "outputs": [
        {
          "output_type": "stream",
          "name": "stdout",
          "text": [
            "Original             Reconstructed\n"
          ]
        },
        {
          "output_type": "display_data",
          "data": {
            "text/plain": [
              "<Figure size 432x288 with 8 Axes>"
            ],
            "image/png": "[encoded data removed]"
          },
          "metadata": {}
        }
      ]
    },
    {
      "cell_type": "markdown",
      "metadata": {
        "id": "xrXvEmWYLC9K"
      },
      "source": [
        "Answer: As already described in the comment present in the notebook, for a latent space of dim(z)=16 the average loss did only change slightly (after epoch 15 0.1541 instead of 01723 before. However, the reconstructed images look clearly better with clearer distinction between the letters."
      ]
    },
    {
      "cell_type": "markdown",
      "metadata": {
        "id": "lHodRKtILC9L"
      },
      "source": [
        "### Training CVAE\n",
        "We optimize in the following the CVAE (simpy run the code)."
      ]
    },
    {
      "cell_type": "code",
      "execution_count": 92,
      "metadata": {
        "colab": {
          "base_uri": "https://localhost:8080/"
        },
        "id": "U8R2_SJbLC9L",
        "outputId": "7d98cd13-0fbe-4c75-db78-00286d1f7480"
      },
      "outputs": [
        {
          "output_type": "stream",
          "name": "stdout",
          "text": [
            "Train Epoch: 1 [0/60000 (0%)]\tLoss: 20.398119\n",
            "Train Epoch: 1 [12800/60000 (21%)]\tLoss: 10.927090\n",
            "Train Epoch: 1 [25600/60000 (43%)]\tLoss: 10.454281\n",
            "Train Epoch: 1 [38400/60000 (64%)]\tLoss: 9.771351\n",
            "Train Epoch: 1 [51200/60000 (85%)]\tLoss: 10.007337\n",
            "====> Epoch: 1 Average loss: 0.1654\n",
            "Train Epoch: 2 [0/60000 (0%)]\tLoss: 9.765146\n",
            "Train Epoch: 2 [12800/60000 (21%)]\tLoss: 9.423344\n",
            "Train Epoch: 2 [25600/60000 (43%)]\tLoss: 9.953191\n",
            "Train Epoch: 2 [38400/60000 (64%)]\tLoss: 9.422255\n",
            "Train Epoch: 2 [51200/60000 (85%)]\tLoss: 10.226418\n",
            "====> Epoch: 2 Average loss: 0.1529\n",
            "Train Epoch: 3 [0/60000 (0%)]\tLoss: 9.407169\n",
            "Train Epoch: 3 [12800/60000 (21%)]\tLoss: 9.189203\n",
            "Train Epoch: 3 [25600/60000 (43%)]\tLoss: 9.616179\n",
            "Train Epoch: 3 [38400/60000 (64%)]\tLoss: 9.187340\n",
            "Train Epoch: 3 [51200/60000 (85%)]\tLoss: 10.284411\n",
            "====> Epoch: 3 Average loss: 0.1505\n",
            "Train Epoch: 4 [0/60000 (0%)]\tLoss: 9.138649\n",
            "Train Epoch: 4 [12800/60000 (21%)]\tLoss: 9.094566\n",
            "Train Epoch: 4 [25600/60000 (43%)]\tLoss: 9.513156\n",
            "Train Epoch: 4 [38400/60000 (64%)]\tLoss: 8.984653\n",
            "Train Epoch: 4 [51200/60000 (85%)]\tLoss: 10.255482\n",
            "====> Epoch: 4 Average loss: 0.1491\n",
            "Train Epoch: 5 [0/60000 (0%)]\tLoss: 9.100430\n",
            "Train Epoch: 5 [12800/60000 (21%)]\tLoss: 9.061224\n",
            "Train Epoch: 5 [25600/60000 (43%)]\tLoss: 9.506104\n",
            "Train Epoch: 5 [38400/60000 (64%)]\tLoss: 8.887625\n",
            "Train Epoch: 5 [51200/60000 (85%)]\tLoss: 10.317597\n",
            "====> Epoch: 5 Average loss: 0.1481\n",
            "Train Epoch: 6 [0/60000 (0%)]\tLoss: 9.031826\n",
            "Train Epoch: 6 [12800/60000 (21%)]\tLoss: 8.968248\n",
            "Train Epoch: 6 [25600/60000 (43%)]\tLoss: 9.428479\n",
            "Train Epoch: 6 [38400/60000 (64%)]\tLoss: 8.762453\n",
            "Train Epoch: 6 [51200/60000 (85%)]\tLoss: 10.224999\n",
            "====> Epoch: 6 Average loss: 0.1474\n",
            "Train Epoch: 7 [0/60000 (0%)]\tLoss: 8.931403\n",
            "Train Epoch: 7 [12800/60000 (21%)]\tLoss: 8.966529\n",
            "Train Epoch: 7 [25600/60000 (43%)]\tLoss: 9.331438\n",
            "Train Epoch: 7 [38400/60000 (64%)]\tLoss: 8.781825\n",
            "Train Epoch: 7 [51200/60000 (85%)]\tLoss: 10.271636\n",
            "====> Epoch: 7 Average loss: 0.1468\n",
            "Train Epoch: 8 [0/60000 (0%)]\tLoss: 8.785751\n",
            "Train Epoch: 8 [12800/60000 (21%)]\tLoss: 8.813805\n",
            "Train Epoch: 8 [25600/60000 (43%)]\tLoss: 9.378654\n",
            "Train Epoch: 8 [38400/60000 (64%)]\tLoss: 8.769193\n",
            "Train Epoch: 8 [51200/60000 (85%)]\tLoss: 10.334820\n",
            "====> Epoch: 8 Average loss: 0.1462\n",
            "Train Epoch: 9 [0/60000 (0%)]\tLoss: 8.703981\n",
            "Train Epoch: 9 [12800/60000 (21%)]\tLoss: 8.821873\n",
            "Train Epoch: 9 [25600/60000 (43%)]\tLoss: 9.334107\n",
            "Train Epoch: 9 [38400/60000 (64%)]\tLoss: 8.715730\n",
            "Train Epoch: 9 [51200/60000 (85%)]\tLoss: 10.144164\n",
            "====> Epoch: 9 Average loss: 0.1456\n",
            "Train Epoch: 10 [0/60000 (0%)]\tLoss: 8.676333\n",
            "Train Epoch: 10 [12800/60000 (21%)]\tLoss: 8.895405\n",
            "Train Epoch: 10 [25600/60000 (43%)]\tLoss: 9.277253\n",
            "Train Epoch: 10 [38400/60000 (64%)]\tLoss: 8.743080\n",
            "Train Epoch: 10 [51200/60000 (85%)]\tLoss: 10.111849\n",
            "====> Epoch: 10 Average loss: 0.1452\n",
            "Train Epoch: 11 [0/60000 (0%)]\tLoss: 8.642469\n",
            "Train Epoch: 11 [12800/60000 (21%)]\tLoss: 8.880397\n",
            "Train Epoch: 11 [25600/60000 (43%)]\tLoss: 9.275807\n",
            "Train Epoch: 11 [38400/60000 (64%)]\tLoss: 8.745755\n",
            "Train Epoch: 11 [51200/60000 (85%)]\tLoss: 10.007165\n",
            "====> Epoch: 11 Average loss: 0.1450\n",
            "Train Epoch: 12 [0/60000 (0%)]\tLoss: 8.724131\n",
            "Train Epoch: 12 [12800/60000 (21%)]\tLoss: 8.839670\n",
            "Train Epoch: 12 [25600/60000 (43%)]\tLoss: 9.344316\n",
            "Train Epoch: 12 [38400/60000 (64%)]\tLoss: 8.647593\n",
            "Train Epoch: 12 [51200/60000 (85%)]\tLoss: 10.056328\n",
            "====> Epoch: 12 Average loss: 0.1447\n",
            "Train Epoch: 13 [0/60000 (0%)]\tLoss: 8.733301\n",
            "Train Epoch: 13 [12800/60000 (21%)]\tLoss: 8.857166\n",
            "Train Epoch: 13 [25600/60000 (43%)]\tLoss: 9.233210\n",
            "Train Epoch: 13 [38400/60000 (64%)]\tLoss: 8.762039\n",
            "Train Epoch: 13 [51200/60000 (85%)]\tLoss: 10.026580\n",
            "====> Epoch: 13 Average loss: 0.1445\n",
            "Train Epoch: 14 [0/60000 (0%)]\tLoss: 8.559929\n",
            "Train Epoch: 14 [12800/60000 (21%)]\tLoss: 8.822204\n",
            "Train Epoch: 14 [25600/60000 (43%)]\tLoss: 9.156139\n",
            "Train Epoch: 14 [38400/60000 (64%)]\tLoss: 8.731995\n",
            "Train Epoch: 14 [51200/60000 (85%)]\tLoss: 10.043735\n",
            "====> Epoch: 14 Average loss: 0.1442\n"
          ]
        }
      ],
      "source": [
        "encoder_layer_sizes = [784, 512, 256]\n",
        "decoder_layer_sizes = [256, 512, 784]\n",
        "latent_dim = 2\n",
        "cvae = CVAE(inp_dim=784, encoder_layer_sizes=encoder_layer_sizes, decoder_layer_sizes=decoder_layer_sizes, latent_dim=latent_dim, conditional=True)\n",
        "\n",
        "cvae = cvae.to(device)\n",
        "optimizer = optim.Adam(cvae.parameters())\n",
        "\n",
        "\n",
        "def train(epoch):\n",
        "    cvae.train()\n",
        "    train_loss = 0\n",
        "    for batch_idx, data in enumerate(train_loader):\n",
        "        x, y = data\n",
        "        x = x.to(device)\n",
        "        optimizer.zero_grad()\n",
        "        recon_batch, mu, log_var = cvae(x, y)\n",
        "        loss = loss_function(recon_batch, x, mu, log_var)\n",
        "        \n",
        "        loss.backward()\n",
        "        train_loss += loss.item()\n",
        "        optimizer.step()\n",
        "        \n",
        "        if batch_idx % 100 == 0:\n",
        "            print('Train Epoch: {} [{}/{} ({:.0f}%)]\\tLoss: {:.6f}'.format(\n",
        "                epoch, batch_idx * len(x), len(train_loader.dataset),\n",
        "                100. * batch_idx / len(train_loader), loss.item() / len(data)))\n",
        "    print('====> Epoch: {} Average loss: {:.4f}'.format(epoch, train_loss / len(train_loader.dataset)))\n",
        "    \n",
        "    \n",
        "# Training of CVAE\n",
        "for epoch in range(1, 15):\n",
        "    train(epoch)"
      ]
    },
    {
      "cell_type": "markdown",
      "metadata": {
        "id": "ergP_mAuLC9L"
      },
      "source": [
        "### Sanity Check CVAE\n",
        "Check whether your CVAE is able to reconstruct certain images when conditioned on the label (simply run the code).\n",
        "* Is there a difference to the standard VAE?"
      ]
    },
    {
      "cell_type": "code",
      "execution_count": 93,
      "metadata": {
        "colab": {
          "base_uri": "https://localhost:8080/",
          "height": 284
        },
        "id": "aT8Ug4YBLC9M",
        "outputId": "0aeef6a1-6560-4b64-82a8-24198d85941b"
      },
      "outputs": [
        {
          "output_type": "display_data",
          "data": {
            "text/plain": [
              "<Figure size 432x288 with 20 Axes>"
            ],
            "image/png": "[encoded data removed]"
          },
          "metadata": {}
        }
      ],
      "source": [
        "x,l = next(iter(train_loader))\n",
        "for i in range(0, 10):\n",
        "    x_one_label = x[l==i][:2]\n",
        "\n",
        "    samples = x_one_label[:1].to(device)\n",
        "    labels= i* torch.ones(1).type(torch.long)\n",
        "    plt.subplot(5,4,2*i+1)\n",
        "    plt.tight_layout()\n",
        "    imshow(samples[0,0].cpu())\n",
        "    plt.title(\"Ori. {}\".format(i))\n",
        "    \n",
        "    samples_rec, _, _ = cvae(samples, c = labels)\n",
        "    samples_rec = samples_rec.detach().cpu().view(-1,28,28)\n",
        "\n",
        "    plt.subplot(5, 4, 2*i+2)\n",
        "    plt.tight_layout()\n",
        "    imshow(samples_rec[0])\n",
        "    plt.title(\"Rec. {}\".format(i))"
      ]
    },
    {
      "cell_type": "markdown",
      "source": [
        "Answer: The CVAE is able to reconstruct the digits, but his reconstructions are not a general idealized version, but very similar to the digit instance it was conditioned upon."
      ],
      "metadata": {
        "id": "XpKbOgAtNdSN"
      }
    },
    {
      "cell_type": "markdown",
      "metadata": {
        "id": "1MJISGGLLC9M"
      },
      "source": [
        "Check whether your CVAE is able to generate images from the MNIST dataset distribution by sampling from the latent space and decode these latent codes (simply run the code).\n",
        "* How do the generated digits compare to those of the VAE?\n",
        "* Can you imagine why differences could arise?"
      ]
    },
    {
      "cell_type": "code",
      "execution_count": 94,
      "metadata": {
        "colab": {
          "base_uri": "https://localhost:8080/",
          "height": 284
        },
        "id": "KAardHApLC9M",
        "outputId": "0f39a5b0-a8f3-4b6f-9616-ac4b572c328a"
      },
      "outputs": [
        {
          "output_type": "display_data",
          "data": {
            "text/plain": [
              "<Figure size 432x288 with 10 Axes>"
            ],
            "image/png": "[encoded data removed]"
          },
          "metadata": {}
        }
      ],
      "source": [
        "for i in range(0, 10):\n",
        "    plt.subplot(3,4,i+1)\n",
        "    label = i* torch.ones(1).type(torch.long)\n",
        "    sample = cvae.sampling(n=1, c=label).detach().view(-1,28,28).cpu()\n",
        "    plt.tight_layout()\n",
        "    imshow(sample[0])\n",
        "    plt.xticks([])\n",
        "    plt.yticks([])\n",
        "    plt.title(\"Cond. {}\".format(i))"
      ]
    },
    {
      "cell_type": "markdown",
      "source": [
        "Answer: It can reconstruct the digits, even with a better resolution than the VAE. Especially the edge cases which were problematic for the VAE (e.g. 8 and 3) are clearly distinguishable here.\n",
        "\n",
        "This can be attributed to the conditioning nature of the CVAE: Each label class has now an own distribution, which makes things cleaner compared to the vanilla VAE where similar digits (like 8 and 3) are also close together in the latent space."
      ],
      "metadata": {
        "id": "XqH757RhNzhm"
      }
    },
    {
      "cell_type": "markdown",
      "metadata": {
        "id": "KjYbcDPNLC9N"
      },
      "source": [
        "## Task 2: Visualisation of Latent Space of VAE\n",
        "\n",
        "\n",
        "### Visualisation of output of decoder\n",
        "Make sure you use the model vae trained with $2$ latent dimensions.\n",
        "\n",
        "* Illustrate the 2 dimensional latent space by showing decoder output for different values in the latent space (see example on exercise sheet)."
      ]
    },
    {
      "cell_type": "code",
      "execution_count": null,
      "metadata": {
        "id": "LIrnCsjFLC9N"
      },
      "outputs": [],
      "source": [
        "########\n",
        "# TODO #\n",
        "########"
      ]
    },
    {
      "cell_type": "markdown",
      "metadata": {
        "id": "ikmAOj2ULC9N"
      },
      "source": [
        "### Visualisation of latent space\n",
        "In the following, you should visualize the latent space directly.\n",
        "* Make a scatter plot in latent space, where each plotted point represents the latent code of a single image from the MNIST dataset. Color the points according to the image label.\n",
        "* What kind of shape should ideally arise?\n",
        "* What do you see in reality?"
      ]
    },
    {
      "cell_type": "code",
      "execution_count": null,
      "metadata": {
        "id": "1T_mTd-ILC9N"
      },
      "outputs": [],
      "source": [
        "########\n",
        "# TODO #\n",
        "########"
      ]
    },
    {
      "cell_type": "markdown",
      "metadata": {
        "id": "U3UeDhH_LC9O"
      },
      "source": [
        "### Weaknesses of the VAE\n",
        "* Find from your plot coordinates in the latent space that migh cause problems to the VAE if you decode this points. Explain your reasoning.\n",
        "* Illustrate the decoding of one of these points.\n",
        "* Describe what you see."
      ]
    },
    {
      "cell_type": "code",
      "execution_count": null,
      "metadata": {
        "id": "dZtGM8X7LC9O"
      },
      "outputs": [],
      "source": [
        "########\n",
        "# TODO #\n",
        "########"
      ]
    },
    {
      "cell_type": "markdown",
      "metadata": {
        "id": "C4wl_lPtLC9O"
      },
      "source": [
        "## Task 3: Visualisation of Latent Space of CVAE\n",
        "\n",
        "Make sure you use the model cvae trained with $2$ latent dimensions.\n",
        "\n",
        "### Visualisation of Latent Space via Decoder\n",
        "\n",
        "Repeat task 2 for the CVAE: \n",
        "* Illustrate the 2 dimensional latent space by showing the output of the decoder for different values in the latent space (see example on exercise sheet).\n",
        "* Make two or three of these plots, each conditioned on a fixed label."
      ]
    },
    {
      "cell_type": "code",
      "execution_count": null,
      "metadata": {
        "id": "nr3ynRKCLC9P"
      },
      "outputs": [],
      "source": [
        "########\n",
        "# TODO #\n",
        "########"
      ]
    },
    {
      "cell_type": "markdown",
      "metadata": {
        "id": "aPbFE0AeLC9P"
      },
      "source": [
        "### Visualisation of Latent Space via Decoder\n",
        "* Repeat the scatter plot from Task 2. For each sample, use the correct label as the condition. Color the points according to the label.\n",
        "* What difference do you see, compared to the standard VAE?\n",
        "* How to you explain this?\n",
        "* What does this mean for 'bad samples', as observed in Task 2?\n"
      ]
    },
    {
      "cell_type": "code",
      "execution_count": null,
      "metadata": {
        "id": "EFxPI4mcLC9P"
      },
      "outputs": [],
      "source": [
        "########\n",
        "# TODO #\n",
        "########"
      ]
    },
    {
      "cell_type": "markdown",
      "metadata": {
        "id": "lbzKEGIxLC9P"
      },
      "source": [
        "## Task 4: Generative Classifier\n",
        "We define our classifier as maximum a posteriori estimator and expand according to Bayes rule. The label $\\hat y$ for a given ..$x$ is predicted according to:\n",
        "\n",
        "$$ \\hat y= \\arg \\max_y p(y \\mid x) = \\arg \\max_y \\frac{p(x \\mid y)p(y)}{p(x)} = \\arg \\max_y \\log p(x \\mid y) \\ ,$$\n",
        "\n",
        "where the last identity makes use of the fact that $p(y)=1/10$ is constant for all MNIST labels. We can approximate $\\log p(x \\mid y)$ in the following way: Given an input image, run the CVAE 10 times, each time conditioning one one of the different class labels $y$. Calculate the losses for each case and use them to design a classifier. Note that the network was never trained as classifier, but is still able to perform the task.  "
      ]
    },
    {
      "cell_type": "code",
      "execution_count": null,
      "metadata": {
        "id": "qV7J1Ry1LC9Q"
      },
      "outputs": [],
      "source": [
        "########\n",
        "# TODO #\n",
        "########"
      ]
    }
  ],
  "metadata": {
    "kernelspec": {
      "display_name": "Python 3",
      "language": "python",
      "name": "python3"
    },
    "language_info": {
      "codemirror_mode": {
        "name": "ipython",
        "version": 3
      },
      "file_extension": ".py",
      "mimetype": "text/x-python",
      "name": "python",
      "nbconvert_exporter": "python",
      "pygments_lexer": "ipython3",
      "version": "3.8.5"
    },
    "colab": {
      "name": "cvae.ipynb",
      "provenance": [],
      "collapsed_sections": [],
      "include_colab_link": true
    },
    "accelerator": "GPU",
    "gpuClass": "standard",
    "widgets": {
      "application/vnd.jupyter.widget-state+json": {
        "2865a105adaa499c9d0237f8b60e3a43": {
          "model_module": "@jupyter-widgets/controls",
          "model_name": "HBoxModel",
          "model_module_version": "1.5.0",
          "state": {
            "_dom_classes": [],
            "_model_module": "@jupyter-widgets/controls",
            "_model_module_version": "1.5.0",
            "_model_name": "HBoxModel",
            "_view_count": null,
            "_view_module": "@jupyter-widgets/controls",
            "_view_module_version": "1.5.0",
            "_view_name": "HBoxView",
            "box_style": "",
            "children": [
              "IPY_MODEL_74f4a8c30a7a476eb45e8730835827f8",
              "IPY_MODEL_718bed32a289425eb3cf0b6a7b544475",
              "IPY_MODEL_6afdcebe35144707b9ea7e22d788cf78"
            ],
            "layout": "IPY_MODEL_66794fd316b2468ea168d849f41a83ff"
          }
        },
        "74f4a8c30a7a476eb45e8730835827f8": {
          "model_module": "@jupyter-widgets/controls",
          "model_name": "HTMLModel",
          "model_module_version": "1.5.0",
          "state": {
            "_dom_classes": [],
            "_model_module": "@jupyter-widgets/controls",
            "_model_module_version": "1.5.0",
            "_model_name": "HTMLModel",
            "_view_count": null,
            "_view_module": "@jupyter-widgets/controls",
            "_view_module_version": "1.5.0",
            "_view_name": "HTMLView",
            "description": "",
            "description_tooltip": null,
            "layout": "IPY_MODEL_14a16fac5c9b4c73828f40c98fb52f5a",
            "placeholder": "​",
            "style": "IPY_MODEL_cbae5517be29435e81f24596c02bf2af",
            "value": ""
          }
        },
        "718bed32a289425eb3cf0b6a7b544475": {
          "model_module": "@jupyter-widgets/controls",
          "model_name": "FloatProgressModel",
          "model_module_version": "1.5.0",
          "state": {
            "_dom_classes": [],
            "_model_module": "@jupyter-widgets/controls",
            "_model_module_version": "1.5.0",
            "_model_name": "FloatProgressModel",
            "_view_count": null,
            "_view_module": "@jupyter-widgets/controls",
            "_view_module_version": "1.5.0",
            "_view_name": "ProgressView",
            "bar_style": "success",
            "description": "",
            "description_tooltip": null,
            "layout": "IPY_MODEL_c7ccc3b41e5541768088d7dd2f2fe6c1",
            "max": 9912422,
            "min": 0,
            "orientation": "horizontal",
            "style": "IPY_MODEL_ec4041b5fd4f4a508c2ad731f50d1b3d",
            "value": 9912422
          }
        },
        "6afdcebe35144707b9ea7e22d788cf78": {
          "model_module": "@jupyter-widgets/controls",
          "model_name": "HTMLModel",
          "model_module_version": "1.5.0",
          "state": {
            "_dom_classes": [],
            "_model_module": "@jupyter-widgets/controls",
            "_model_module_version": "1.5.0",
            "_model_name": "HTMLModel",
            "_view_count": null,
            "_view_module": "@jupyter-widgets/controls",
            "_view_module_version": "1.5.0",
            "_view_name": "HTMLView",
            "description": "",
            "description_tooltip": null,
            "layout": "IPY_MODEL_de8518ac5e5447ecb7f152a19ac88cb2",
            "placeholder": "​",
            "style": "IPY_MODEL_911f0134aaf14eeda82390240bec19fc",
            "value": " 9913344/? [00:00&lt;00:00, 26295592.75it/s]"
          }
        },
        "66794fd316b2468ea168d849f41a83ff": {
          "model_module": "@jupyter-widgets/base",
          "model_name": "LayoutModel",
          "model_module_version": "1.2.0",
          "state": {
            "_model_module": "@jupyter-widgets/base",
            "_model_module_version": "1.2.0",
            "_model_name": "LayoutModel",
            "_view_count": null,
            "_view_module": "@jupyter-widgets/base",
            "_view_module_version": "1.2.0",
            "_view_name": "LayoutView",
            "align_content": null,
            "align_items": null,
            "align_self": null,
            "border": null,
            "bottom": null,
            "display": null,
            "flex": null,
            "flex_flow": null,
            "grid_area": null,
            "grid_auto_columns": null,
            "grid_auto_flow": null,
            "grid_auto_rows": null,
            "grid_column": null,
            "grid_gap": null,
            "grid_row": null,
            "grid_template_areas": null,
            "grid_template_columns": null,
            "grid_template_rows": null,
            "height": null,
            "justify_content": null,
            "justify_items": null,
            "left": null,
            "margin": null,
            "max_height": null,
            "max_width": null,
            "min_height": null,
            "min_width": null,
            "object_fit": null,
            "object_position": null,
            "order": null,
            "overflow": null,
            "overflow_x": null,
            "overflow_y": null,
            "padding": null,
            "right": null,
            "top": null,
            "visibility": null,
            "width": null
          }
        },
        "14a16fac5c9b4c73828f40c98fb52f5a": {
          "model_module": "@jupyter-widgets/base",
          "model_name": "LayoutModel",
          "model_module_version": "1.2.0",
          "state": {
            "_model_module": "@jupyter-widgets/base",
            "_model_module_version": "1.2.0",
            "_model_name": "LayoutModel",
            "_view_count": null,
            "_view_module": "@jupyter-widgets/base",
            "_view_module_version": "1.2.0",
            "_view_name": "LayoutView",
            "align_content": null,
            "align_items": null,
            "align_self": null,
            "border": null,
            "bottom": null,
            "display": null,
            "flex": null,
            "flex_flow": null,
            "grid_area": null,
            "grid_auto_columns": null,
            "grid_auto_flow": null,
            "grid_auto_rows": null,
            "grid_column": null,
            "grid_gap": null,
            "grid_row": null,
            "grid_template_areas": null,
            "grid_template_columns": null,
            "grid_template_rows": null,
            "height": null,
            "justify_content": null,
            "justify_items": null,
            "left": null,
            "margin": null,
            "max_height": null,
            "max_width": null,
            "min_height": null,
            "min_width": null,
            "object_fit": null,
            "object_position": null,
            "order": null,
            "overflow": null,
            "overflow_x": null,
            "overflow_y": null,
            "padding": null,
            "right": null,
            "top": null,
            "visibility": null,
            "width": null
          }
        },
        "cbae5517be29435e81f24596c02bf2af": {
          "model_module": "@jupyter-widgets/controls",
          "model_name": "DescriptionStyleModel",
          "model_module_version": "1.5.0",
          "state": {
            "_model_module": "@jupyter-widgets/controls",
            "_model_module_version": "1.5.0",
            "_model_name": "DescriptionStyleModel",
            "_view_count": null,
            "_view_module": "@jupyter-widgets/base",
            "_view_module_version": "1.2.0",
            "_view_name": "StyleView",
            "description_width": ""
          }
        },
        "c7ccc3b41e5541768088d7dd2f2fe6c1": {
          "model_module": "@jupyter-widgets/base",
          "model_name": "LayoutModel",
          "model_module_version": "1.2.0",
          "state": {
            "_model_module": "@jupyter-widgets/base",
            "_model_module_version": "1.2.0",
            "_model_name": "LayoutModel",
            "_view_count": null,
            "_view_module": "@jupyter-widgets/base",
            "_view_module_version": "1.2.0",
            "_view_name": "LayoutView",
            "align_content": null,
            "align_items": null,
            "align_self": null,
            "border": null,
            "bottom": null,
            "display": null,
            "flex": null,
            "flex_flow": null,
            "grid_area": null,
            "grid_auto_columns": null,
            "grid_auto_flow": null,
            "grid_auto_rows": null,
            "grid_column": null,
            "grid_gap": null,
            "grid_row": null,
            "grid_template_areas": null,
            "grid_template_columns": null,
            "grid_template_rows": null,
            "height": null,
            "justify_content": null,
            "justify_items": null,
            "left": null,
            "margin": null,
            "max_height": null,
            "max_width": null,
            "min_height": null,
            "min_width": null,
            "object_fit": null,
            "object_position": null,
            "order": null,
            "overflow": null,
            "overflow_x": null,
            "overflow_y": null,
            "padding": null,
            "right": null,
            "top": null,
            "visibility": null,
            "width": null
          }
        },
        "ec4041b5fd4f4a508c2ad731f50d1b3d": {
          "model_module": "@jupyter-widgets/controls",
          "model_name": "ProgressStyleModel",
          "model_module_version": "1.5.0",
          "state": {
            "_model_module": "@jupyter-widgets/controls",
            "_model_module_version": "1.5.0",
            "_model_name": "ProgressStyleModel",
            "_view_count": null,
            "_view_module": "@jupyter-widgets/base",
            "_view_module_version": "1.2.0",
            "_view_name": "StyleView",
            "bar_color": null,
            "description_width": ""
          }
        },
        "de8518ac5e5447ecb7f152a19ac88cb2": {
          "model_module": "@jupyter-widgets/base",
          "model_name": "LayoutModel",
          "model_module_version": "1.2.0",
          "state": {
            "_model_module": "@jupyter-widgets/base",
            "_model_module_version": "1.2.0",
            "_model_name": "LayoutModel",
            "_view_count": null,
            "_view_module": "@jupyter-widgets/base",
            "_view_module_version": "1.2.0",
            "_view_name": "LayoutView",
            "align_content": null,
            "align_items": null,
            "align_self": null,
            "border": null,
            "bottom": null,
            "display": null,
            "flex": null,
            "flex_flow": null,
            "grid_area": null,
            "grid_auto_columns": null,
            "grid_auto_flow": null,
            "grid_auto_rows": null,
            "grid_column": null,
            "grid_gap": null,
            "grid_row": null,
            "grid_template_areas": null,
            "grid_template_columns": null,
            "grid_template_rows": null,
            "height": null,
            "justify_content": null,
            "justify_items": null,
            "left": null,
            "margin": null,
            "max_height": null,
            "max_width": null,
            "min_height": null,
            "min_width": null,
            "object_fit": null,
            "object_position": null,
            "order": null,
            "overflow": null,
            "overflow_x": null,
            "overflow_y": null,
            "padding": null,
            "right": null,
            "top": null,
            "visibility": null,
            "width": null
          }
        },
        "911f0134aaf14eeda82390240bec19fc": {
          "model_module": "@jupyter-widgets/controls",
          "model_name": "DescriptionStyleModel",
          "model_module_version": "1.5.0",
          "state": {
            "_model_module": "@jupyter-widgets/controls",
            "_model_module_version": "1.5.0",
            "_model_name": "DescriptionStyleModel",
            "_view_count": null,
            "_view_module": "@jupyter-widgets/base",
            "_view_module_version": "1.2.0",
            "_view_name": "StyleView",
            "description_width": ""
          }
        },
        "2ccbf70f173243c9a0c1991df0142298": {
          "model_module": "@jupyter-widgets/controls",
          "model_name": "HBoxModel",
          "model_module_version": "1.5.0",
          "state": {
            "_dom_classes": [],
            "_model_module": "@jupyter-widgets/controls",
            "_model_module_version": "1.5.0",
            "_model_name": "HBoxModel",
            "_view_count": null,
            "_view_module": "@jupyter-widgets/controls",
            "_view_module_version": "1.5.0",
            "_view_name": "HBoxView",
            "box_style": "",
            "children": [
              "IPY_MODEL_c2f037fec5784de0a937af44f1143e4f",
              "IPY_MODEL_28ed77e36e0f4d7ea97e10695c77e868",
              "IPY_MODEL_9a6fca08a625435abe5b0b60b24b70d4"
            ],
            "layout": "IPY_MODEL_8112541c52fe45ac9aa6bc3db1eb6f63"
          }
        },
        "c2f037fec5784de0a937af44f1143e4f": {
          "model_module": "@jupyter-widgets/controls",
          "model_name": "HTMLModel",
          "model_module_version": "1.5.0",
          "state": {
            "_dom_classes": [],
            "_model_module": "@jupyter-widgets/controls",
            "_model_module_version": "1.5.0",
            "_model_name": "HTMLModel",
            "_view_count": null,
            "_view_module": "@jupyter-widgets/controls",
            "_view_module_version": "1.5.0",
            "_view_name": "HTMLView",
            "description": "",
            "description_tooltip": null,
            "layout": "IPY_MODEL_ee0c83bc04fd4b9b9e31de5f56a82e05",
            "placeholder": "​",
            "style": "IPY_MODEL_c36fd63e28244ddd86aa95cd74364519",
            "value": ""
          }
        },
        "28ed77e36e0f4d7ea97e10695c77e868": {
          "model_module": "@jupyter-widgets/controls",
          "model_name": "FloatProgressModel",
          "model_module_version": "1.5.0",
          "state": {
            "_dom_classes": [],
            "_model_module": "@jupyter-widgets/controls",
            "_model_module_version": "1.5.0",
            "_model_name": "FloatProgressModel",
            "_view_count": null,
            "_view_module": "@jupyter-widgets/controls",
            "_view_module_version": "1.5.0",
            "_view_name": "ProgressView",
            "bar_style": "success",
            "description": "",
            "description_tooltip": null,
            "layout": "IPY_MODEL_3eaa536b84824e99991abce233085551",
            "max": 28881,
            "min": 0,
            "orientation": "horizontal",
            "style": "IPY_MODEL_fd565c5a4de04b1b84f94cbd621915dd",
            "value": 28881
          }
        },
        "9a6fca08a625435abe5b0b60b24b70d4": {
          "model_module": "@jupyter-widgets/controls",
          "model_name": "HTMLModel",
          "model_module_version": "1.5.0",
          "state": {
            "_dom_classes": [],
            "_model_module": "@jupyter-widgets/controls",
            "_model_module_version": "1.5.0",
            "_model_name": "HTMLModel",
            "_view_count": null,
            "_view_module": "@jupyter-widgets/controls",
            "_view_module_version": "1.5.0",
            "_view_name": "HTMLView",
            "description": "",
            "description_tooltip": null,
            "layout": "IPY_MODEL_8c0df42093a549e8966860bf1cc16f63",
            "placeholder": "​",
            "style": "IPY_MODEL_250b5d3189704d9594d238a895b74397",
            "value": " 29696/? [00:00&lt;00:00, 812888.66it/s]"
          }
        },
        "8112541c52fe45ac9aa6bc3db1eb6f63": {
          "model_module": "@jupyter-widgets/base",
          "model_name": "LayoutModel",
          "model_module_version": "1.2.0",
          "state": {
            "_model_module": "@jupyter-widgets/base",
            "_model_module_version": "1.2.0",
            "_model_name": "LayoutModel",
            "_view_count": null,
            "_view_module": "@jupyter-widgets/base",
            "_view_module_version": "1.2.0",
            "_view_name": "LayoutView",
            "align_content": null,
            "align_items": null,
            "align_self": null,
            "border": null,
            "bottom": null,
            "display": null,
            "flex": null,
            "flex_flow": null,
            "grid_area": null,
            "grid_auto_columns": null,
            "grid_auto_flow": null,
            "grid_auto_rows": null,
            "grid_column": null,
            "grid_gap": null,
            "grid_row": null,
            "grid_template_areas": null,
            "grid_template_columns": null,
            "grid_template_rows": null,
            "height": null,
            "justify_content": null,
            "justify_items": null,
            "left": null,
            "margin": null,
            "max_height": null,
            "max_width": null,
            "min_height": null,
            "min_width": null,
            "object_fit": null,
            "object_position": null,
            "order": null,
            "overflow": null,
            "overflow_x": null,
            "overflow_y": null,
            "padding": null,
            "right": null,
            "top": null,
            "visibility": null,
            "width": null
          }
        },
        "ee0c83bc04fd4b9b9e31de5f56a82e05": {
          "model_module": "@jupyter-widgets/base",
          "model_name": "LayoutModel",
          "model_module_version": "1.2.0",
          "state": {
            "_model_module": "@jupyter-widgets/base",
            "_model_module_version": "1.2.0",
            "_model_name": "LayoutModel",
            "_view_count": null,
            "_view_module": "@jupyter-widgets/base",
            "_view_module_version": "1.2.0",
            "_view_name": "LayoutView",
            "align_content": null,
            "align_items": null,
            "align_self": null,
            "border": null,
            "bottom": null,
            "display": null,
            "flex": null,
            "flex_flow": null,
            "grid_area": null,
            "grid_auto_columns": null,
            "grid_auto_flow": null,
            "grid_auto_rows": null,
            "grid_column": null,
            "grid_gap": null,
            "grid_row": null,
            "grid_template_areas": null,
            "grid_template_columns": null,
            "grid_template_rows": null,
            "height": null,
            "justify_content": null,
            "justify_items": null,
            "left": null,
            "margin": null,
            "max_height": null,
            "max_width": null,
            "min_height": null,
            "min_width": null,
            "object_fit": null,
            "object_position": null,
            "order": null,
            "overflow": null,
            "overflow_x": null,
            "overflow_y": null,
            "padding": null,
            "right": null,
            "top": null,
            "visibility": null,
            "width": null
          }
        },
        "c36fd63e28244ddd86aa95cd74364519": {
          "model_module": "@jupyter-widgets/controls",
          "model_name": "DescriptionStyleModel",
          "model_module_version": "1.5.0",
          "state": {
            "_model_module": "@jupyter-widgets/controls",
            "_model_module_version": "1.5.0",
            "_model_name": "DescriptionStyleModel",
            "_view_count": null,
            "_view_module": "@jupyter-widgets/base",
            "_view_module_version": "1.2.0",
            "_view_name": "StyleView",
            "description_width": ""
          }
        },
        "3eaa536b84824e99991abce233085551": {
          "model_module": "@jupyter-widgets/base",
          "model_name": "LayoutModel",
          "model_module_version": "1.2.0",
          "state": {
            "_model_module": "@jupyter-widgets/base",
            "_model_module_version": "1.2.0",
            "_model_name": "LayoutModel",
            "_view_count": null,
            "_view_module": "@jupyter-widgets/base",
            "_view_module_version": "1.2.0",
            "_view_name": "LayoutView",
            "align_content": null,
            "align_items": null,
            "align_self": null,
            "border": null,
            "bottom": null,
            "display": null,
            "flex": null,
            "flex_flow": null,
            "grid_area": null,
            "grid_auto_columns": null,
            "grid_auto_flow": null,
            "grid_auto_rows": null,
            "grid_column": null,
            "grid_gap": null,
            "grid_row": null,
            "grid_template_areas": null,
            "grid_template_columns": null,
            "grid_template_rows": null,
            "height": null,
            "justify_content": null,
            "justify_items": null,
            "left": null,
            "margin": null,
            "max_height": null,
            "max_width": null,
            "min_height": null,
            "min_width": null,
            "object_fit": null,
            "object_position": null,
            "order": null,
            "overflow": null,
            "overflow_x": null,
            "overflow_y": null,
            "padding": null,
            "right": null,
            "top": null,
            "visibility": null,
            "width": null
          }
        },
        "fd565c5a4de04b1b84f94cbd621915dd": {
          "model_module": "@jupyter-widgets/controls",
          "model_name": "ProgressStyleModel",
          "model_module_version": "1.5.0",
          "state": {
            "_model_module": "@jupyter-widgets/controls",
            "_model_module_version": "1.5.0",
            "_model_name": "ProgressStyleModel",
            "_view_count": null,
            "_view_module": "@jupyter-widgets/base",
            "_view_module_version": "1.2.0",
            "_view_name": "StyleView",
            "bar_color": null,
            "description_width": ""
          }
        },
        "8c0df42093a549e8966860bf1cc16f63": {
          "model_module": "@jupyter-widgets/base",
          "model_name": "LayoutModel",
          "model_module_version": "1.2.0",
          "state": {
            "_model_module": "@jupyter-widgets/base",
            "_model_module_version": "1.2.0",
            "_model_name": "LayoutModel",
            "_view_count": null,
            "_view_module": "@jupyter-widgets/base",
            "_view_module_version": "1.2.0",
            "_view_name": "LayoutView",
            "align_content": null,
            "align_items": null,
            "align_self": null,
            "border": null,
            "bottom": null,
            "display": null,
            "flex": null,
            "flex_flow": null,
            "grid_area": null,
            "grid_auto_columns": null,
            "grid_auto_flow": null,
            "grid_auto_rows": null,
            "grid_column": null,
            "grid_gap": null,
            "grid_row": null,
            "grid_template_areas": null,
            "grid_template_columns": null,
            "grid_template_rows": null,
            "height": null,
            "justify_content": null,
            "justify_items": null,
            "left": null,
            "margin": null,
            "max_height": null,
            "max_width": null,
            "min_height": null,
            "min_width": null,
            "object_fit": null,
            "object_position": null,
            "order": null,
            "overflow": null,
            "overflow_x": null,
            "overflow_y": null,
            "padding": null,
            "right": null,
            "top": null,
            "visibility": null,
            "width": null
          }
        },
        "250b5d3189704d9594d238a895b74397": {
          "model_module": "@jupyter-widgets/controls",
          "model_name": "DescriptionStyleModel",
          "model_module_version": "1.5.0",
          "state": {
            "_model_module": "@jupyter-widgets/controls",
            "_model_module_version": "1.5.0",
            "_model_name": "DescriptionStyleModel",
            "_view_count": null,
            "_view_module": "@jupyter-widgets/base",
            "_view_module_version": "1.2.0",
            "_view_name": "StyleView",
            "description_width": ""
          }
        },
        "244f5eb23bae485da5e01a0a3eff23b9": {
          "model_module": "@jupyter-widgets/controls",
          "model_name": "HBoxModel",
          "model_module_version": "1.5.0",
          "state": {
            "_dom_classes": [],
            "_model_module": "@jupyter-widgets/controls",
            "_model_module_version": "1.5.0",
            "_model_name": "HBoxModel",
            "_view_count": null,
            "_view_module": "@jupyter-widgets/controls",
            "_view_module_version": "1.5.0",
            "_view_name": "HBoxView",
            "box_style": "",
            "children": [
              "IPY_MODEL_4026c4100f924eb5a2a3cc1c196e033f",
              "IPY_MODEL_1f6f1d29d58b488e9f0c5018a6744953",
              "IPY_MODEL_3559c01ed5d44c928a1aac5ad3f13616"
            ],
            "layout": "IPY_MODEL_28b7dd18af4c4f41b8068c59e385f1f4"
          }
        },
        "4026c4100f924eb5a2a3cc1c196e033f": {
          "model_module": "@jupyter-widgets/controls",
          "model_name": "HTMLModel",
          "model_module_version": "1.5.0",
          "state": {
            "_dom_classes": [],
            "_model_module": "@jupyter-widgets/controls",
            "_model_module_version": "1.5.0",
            "_model_name": "HTMLModel",
            "_view_count": null,
            "_view_module": "@jupyter-widgets/controls",
            "_view_module_version": "1.5.0",
            "_view_name": "HTMLView",
            "description": "",
            "description_tooltip": null,
            "layout": "IPY_MODEL_42a71995fa7d489983a296670c521f5f",
            "placeholder": "​",
            "style": "IPY_MODEL_468adf5c4add4258a241bbd9e0b091e8",
            "value": ""
          }
        },
        "1f6f1d29d58b488e9f0c5018a6744953": {
          "model_module": "@jupyter-widgets/controls",
          "model_name": "FloatProgressModel",
          "model_module_version": "1.5.0",
          "state": {
            "_dom_classes": [],
            "_model_module": "@jupyter-widgets/controls",
            "_model_module_version": "1.5.0",
            "_model_name": "FloatProgressModel",
            "_view_count": null,
            "_view_module": "@jupyter-widgets/controls",
            "_view_module_version": "1.5.0",
            "_view_name": "ProgressView",
            "bar_style": "success",
            "description": "",
            "description_tooltip": null,
            "layout": "IPY_MODEL_3dbe06f1a0be4125b551f39b034e02de",
            "max": 1648877,
            "min": 0,
            "orientation": "horizontal",
            "style": "IPY_MODEL_46881c2120694a5bacb4fff74a0e343c",
            "value": 1648877
          }
        },
        "3559c01ed5d44c928a1aac5ad3f13616": {
          "model_module": "@jupyter-widgets/controls",
          "model_name": "HTMLModel",
          "model_module_version": "1.5.0",
          "state": {
            "_dom_classes": [],
            "_model_module": "@jupyter-widgets/controls",
            "_model_module_version": "1.5.0",
            "_model_name": "HTMLModel",
            "_view_count": null,
            "_view_module": "@jupyter-widgets/controls",
            "_view_module_version": "1.5.0",
            "_view_name": "HTMLView",
            "description": "",
            "description_tooltip": null,
            "layout": "IPY_MODEL_a170eb0b598c4e73b2193261605913c9",
            "placeholder": "​",
            "style": "IPY_MODEL_878e60d926c04146b69940107a63c6e7",
            "value": " 1649664/? [00:00&lt;00:00, 19932395.69it/s]"
          }
        },
        "28b7dd18af4c4f41b8068c59e385f1f4": {
          "model_module": "@jupyter-widgets/base",
          "model_name": "LayoutModel",
          "model_module_version": "1.2.0",
          "state": {
            "_model_module": "@jupyter-widgets/base",
            "_model_module_version": "1.2.0",
            "_model_name": "LayoutModel",
            "_view_count": null,
            "_view_module": "@jupyter-widgets/base",
            "_view_module_version": "1.2.0",
            "_view_name": "LayoutView",
            "align_content": null,
            "align_items": null,
            "align_self": null,
            "border": null,
            "bottom": null,
            "display": null,
            "flex": null,
            "flex_flow": null,
            "grid_area": null,
            "grid_auto_columns": null,
            "grid_auto_flow": null,
            "grid_auto_rows": null,
            "grid_column": null,
            "grid_gap": null,
            "grid_row": null,
            "grid_template_areas": null,
            "grid_template_columns": null,
            "grid_template_rows": null,
            "height": null,
            "justify_content": null,
            "justify_items": null,
            "left": null,
            "margin": null,
            "max_height": null,
            "max_width": null,
            "min_height": null,
            "min_width": null,
            "object_fit": null,
            "object_position": null,
            "order": null,
            "overflow": null,
            "overflow_x": null,
            "overflow_y": null,
            "padding": null,
            "right": null,
            "top": null,
            "visibility": null,
            "width": null
          }
        },
        "42a71995fa7d489983a296670c521f5f": {
          "model_module": "@jupyter-widgets/base",
          "model_name": "LayoutModel",
          "model_module_version": "1.2.0",
          "state": {
            "_model_module": "@jupyter-widgets/base",
            "_model_module_version": "1.2.0",
            "_model_name": "LayoutModel",
            "_view_count": null,
            "_view_module": "@jupyter-widgets/base",
            "_view_module_version": "1.2.0",
            "_view_name": "LayoutView",
            "align_content": null,
            "align_items": null,
            "align_self": null,
            "border": null,
            "bottom": null,
            "display": null,
            "flex": null,
            "flex_flow": null,
            "grid_area": null,
            "grid_auto_columns": null,
            "grid_auto_flow": null,
            "grid_auto_rows": null,
            "grid_column": null,
            "grid_gap": null,
            "grid_row": null,
            "grid_template_areas": null,
            "grid_template_columns": null,
            "grid_template_rows": null,
            "height": null,
            "justify_content": null,
            "justify_items": null,
            "left": null,
            "margin": null,
            "max_height": null,
            "max_width": null,
            "min_height": null,
            "min_width": null,
            "object_fit": null,
            "object_position": null,
            "order": null,
            "overflow": null,
            "overflow_x": null,
            "overflow_y": null,
            "padding": null,
            "right": null,
            "top": null,
            "visibility": null,
            "width": null
          }
        },
        "468adf5c4add4258a241bbd9e0b091e8": {
          "model_module": "@jupyter-widgets/controls",
          "model_name": "DescriptionStyleModel",
          "model_module_version": "1.5.0",
          "state": {
            "_model_module": "@jupyter-widgets/controls",
            "_model_module_version": "1.5.0",
            "_model_name": "DescriptionStyleModel",
            "_view_count": null,
            "_view_module": "@jupyter-widgets/base",
            "_view_module_version": "1.2.0",
            "_view_name": "StyleView",
            "description_width": ""
          }
        },
        "3dbe06f1a0be4125b551f39b034e02de": {
          "model_module": "@jupyter-widgets/base",
          "model_name": "LayoutModel",
          "model_module_version": "1.2.0",
          "state": {
            "_model_module": "@jupyter-widgets/base",
            "_model_module_version": "1.2.0",
            "_model_name": "LayoutModel",
            "_view_count": null,
            "_view_module": "@jupyter-widgets/base",
            "_view_module_version": "1.2.0",
            "_view_name": "LayoutView",
            "align_content": null,
            "align_items": null,
            "align_self": null,
            "border": null,
            "bottom": null,
            "display": null,
            "flex": null,
            "flex_flow": null,
            "grid_area": null,
            "grid_auto_columns": null,
            "grid_auto_flow": null,
            "grid_auto_rows": null,
            "grid_column": null,
            "grid_gap": null,
            "grid_row": null,
            "grid_template_areas": null,
            "grid_template_columns": null,
            "grid_template_rows": null,
            "height": null,
            "justify_content": null,
            "justify_items": null,
            "left": null,
            "margin": null,
            "max_height": null,
            "max_width": null,
            "min_height": null,
            "min_width": null,
            "object_fit": null,
            "object_position": null,
            "order": null,
            "overflow": null,
            "overflow_x": null,
            "overflow_y": null,
            "padding": null,
            "right": null,
            "top": null,
            "visibility": null,
            "width": null
          }
        },
        "46881c2120694a5bacb4fff74a0e343c": {
          "model_module": "@jupyter-widgets/controls",
          "model_name": "ProgressStyleModel",
          "model_module_version": "1.5.0",
          "state": {
            "_model_module": "@jupyter-widgets/controls",
            "_model_module_version": "1.5.0",
            "_model_name": "ProgressStyleModel",
            "_view_count": null,
            "_view_module": "@jupyter-widgets/base",
            "_view_module_version": "1.2.0",
            "_view_name": "StyleView",
            "bar_color": null,
            "description_width": ""
          }
        },
        "a170eb0b598c4e73b2193261605913c9": {
          "model_module": "@jupyter-widgets/base",
          "model_name": "LayoutModel",
          "model_module_version": "1.2.0",
          "state": {
            "_model_module": "@jupyter-widgets/base",
            "_model_module_version": "1.2.0",
            "_model_name": "LayoutModel",
            "_view_count": null,
            "_view_module": "@jupyter-widgets/base",
            "_view_module_version": "1.2.0",
            "_view_name": "LayoutView",
            "align_content": null,
            "align_items": null,
            "align_self": null,
            "border": null,
            "bottom": null,
            "display": null,
            "flex": null,
            "flex_flow": null,
            "grid_area": null,
            "grid_auto_columns": null,
            "grid_auto_flow": null,
            "grid_auto_rows": null,
            "grid_column": null,
            "grid_gap": null,
            "grid_row": null,
            "grid_template_areas": null,
            "grid_template_columns": null,
            "grid_template_rows": null,
            "height": null,
            "justify_content": null,
            "justify_items": null,
            "left": null,
            "margin": null,
            "max_height": null,
            "max_width": null,
            "min_height": null,
            "min_width": null,
            "object_fit": null,
            "object_position": null,
            "order": null,
            "overflow": null,
            "overflow_x": null,
            "overflow_y": null,
            "padding": null,
            "right": null,
            "top": null,
            "visibility": null,
            "width": null
          }
        },
        "878e60d926c04146b69940107a63c6e7": {
          "model_module": "@jupyter-widgets/controls",
          "model_name": "DescriptionStyleModel",
          "model_module_version": "1.5.0",
          "state": {
            "_model_module": "@jupyter-widgets/controls",
            "_model_module_version": "1.5.0",
            "_model_name": "DescriptionStyleModel",
            "_view_count": null,
            "_view_module": "@jupyter-widgets/base",
            "_view_module_version": "1.2.0",
            "_view_name": "StyleView",
            "description_width": ""
          }
        },
        "ce2cb524566a48efb4a31f93b3dfb079": {
          "model_module": "@jupyter-widgets/controls",
          "model_name": "HBoxModel",
          "model_module_version": "1.5.0",
          "state": {
            "_dom_classes": [],
            "_model_module": "@jupyter-widgets/controls",
            "_model_module_version": "1.5.0",
            "_model_name": "HBoxModel",
            "_view_count": null,
            "_view_module": "@jupyter-widgets/controls",
            "_view_module_version": "1.5.0",
            "_view_name": "HBoxView",
            "box_style": "",
            "children": [
              "IPY_MODEL_9c3bc13e95674fe68afb256918a653f0",
              "IPY_MODEL_4873ac787684458985133784538c18e4",
              "IPY_MODEL_ef274e7b5d604902811ff6f29dc3bfbe"
            ],
            "layout": "IPY_MODEL_9541d9dd53f14e57b957e967f54a1f95"
          }
        },
        "9c3bc13e95674fe68afb256918a653f0": {
          "model_module": "@jupyter-widgets/controls",
          "model_name": "HTMLModel",
          "model_module_version": "1.5.0",
          "state": {
            "_dom_classes": [],
            "_model_module": "@jupyter-widgets/controls",
            "_model_module_version": "1.5.0",
            "_model_name": "HTMLModel",
            "_view_count": null,
            "_view_module": "@jupyter-widgets/controls",
            "_view_module_version": "1.5.0",
            "_view_name": "HTMLView",
            "description": "",
            "description_tooltip": null,
            "layout": "IPY_MODEL_1f25db39f3c540118a26ab1590ff7ed2",
            "placeholder": "​",
            "style": "IPY_MODEL_51abae3ebb8a443c8d3afd218b1d5db8",
            "value": ""
          }
        },
        "4873ac787684458985133784538c18e4": {
          "model_module": "@jupyter-widgets/controls",
          "model_name": "FloatProgressModel",
          "model_module_version": "1.5.0",
          "state": {
            "_dom_classes": [],
            "_model_module": "@jupyter-widgets/controls",
            "_model_module_version": "1.5.0",
            "_model_name": "FloatProgressModel",
            "_view_count": null,
            "_view_module": "@jupyter-widgets/controls",
            "_view_module_version": "1.5.0",
            "_view_name": "ProgressView",
            "bar_style": "success",
            "description": "",
            "description_tooltip": null,
            "layout": "IPY_MODEL_c72b17cf44234bfeb1941d88624efbdb",
            "max": 4542,
            "min": 0,
            "orientation": "horizontal",
            "style": "IPY_MODEL_fdbc4e876593415a983d4fb7106367a8",
            "value": 4542
          }
        },
        "ef274e7b5d604902811ff6f29dc3bfbe": {
          "model_module": "@jupyter-widgets/controls",
          "model_name": "HTMLModel",
          "model_module_version": "1.5.0",
          "state": {
            "_dom_classes": [],
            "_model_module": "@jupyter-widgets/controls",
            "_model_module_version": "1.5.0",
            "_model_name": "HTMLModel",
            "_view_count": null,
            "_view_module": "@jupyter-widgets/controls",
            "_view_module_version": "1.5.0",
            "_view_name": "HTMLView",
            "description": "",
            "description_tooltip": null,
            "layout": "IPY_MODEL_7f944a080bf04dd09d516468ee11ca25",
            "placeholder": "​",
            "style": "IPY_MODEL_121ffe23dbe14a9083d6be6f10e91247",
            "value": " 5120/? [00:00&lt;00:00, 188607.38it/s]"
          }
        },
        "9541d9dd53f14e57b957e967f54a1f95": {
          "model_module": "@jupyter-widgets/base",
          "model_name": "LayoutModel",
          "model_module_version": "1.2.0",
          "state": {
            "_model_module": "@jupyter-widgets/base",
            "_model_module_version": "1.2.0",
            "_model_name": "LayoutModel",
            "_view_count": null,
            "_view_module": "@jupyter-widgets/base",
            "_view_module_version": "1.2.0",
            "_view_name": "LayoutView",
            "align_content": null,
            "align_items": null,
            "align_self": null,
            "border": null,
            "bottom": null,
            "display": null,
            "flex": null,
            "flex_flow": null,
            "grid_area": null,
            "grid_auto_columns": null,
            "grid_auto_flow": null,
            "grid_auto_rows": null,
            "grid_column": null,
            "grid_gap": null,
            "grid_row": null,
            "grid_template_areas": null,
            "grid_template_columns": null,
            "grid_template_rows": null,
            "height": null,
            "justify_content": null,
            "justify_items": null,
            "left": null,
            "margin": null,
            "max_height": null,
            "max_width": null,
            "min_height": null,
            "min_width": null,
            "object_fit": null,
            "object_position": null,
            "order": null,
            "overflow": null,
            "overflow_x": null,
            "overflow_y": null,
            "padding": null,
            "right": null,
            "top": null,
            "visibility": null,
            "width": null
          }
        },
        "1f25db39f3c540118a26ab1590ff7ed2": {
          "model_module": "@jupyter-widgets/base",
          "model_name": "LayoutModel",
          "model_module_version": "1.2.0",
          "state": {
            "_model_module": "@jupyter-widgets/base",
            "_model_module_version": "1.2.0",
            "_model_name": "LayoutModel",
            "_view_count": null,
            "_view_module": "@jupyter-widgets/base",
            "_view_module_version": "1.2.0",
            "_view_name": "LayoutView",
            "align_content": null,
            "align_items": null,
            "align_self": null,
            "border": null,
            "bottom": null,
            "display": null,
            "flex": null,
            "flex_flow": null,
            "grid_area": null,
            "grid_auto_columns": null,
            "grid_auto_flow": null,
            "grid_auto_rows": null,
            "grid_column": null,
            "grid_gap": null,
            "grid_row": null,
            "grid_template_areas": null,
            "grid_template_columns": null,
            "grid_template_rows": null,
            "height": null,
            "justify_content": null,
            "justify_items": null,
            "left": null,
            "margin": null,
            "max_height": null,
            "max_width": null,
            "min_height": null,
            "min_width": null,
            "object_fit": null,
            "object_position": null,
            "order": null,
            "overflow": null,
            "overflow_x": null,
            "overflow_y": null,
            "padding": null,
            "right": null,
            "top": null,
            "visibility": null,
            "width": null
          }
        },
        "51abae3ebb8a443c8d3afd218b1d5db8": {
          "model_module": "@jupyter-widgets/controls",
          "model_name": "DescriptionStyleModel",
          "model_module_version": "1.5.0",
          "state": {
            "_model_module": "@jupyter-widgets/controls",
            "_model_module_version": "1.5.0",
            "_model_name": "DescriptionStyleModel",
            "_view_count": null,
            "_view_module": "@jupyter-widgets/base",
            "_view_module_version": "1.2.0",
            "_view_name": "StyleView",
            "description_width": ""
          }
        },
        "c72b17cf44234bfeb1941d88624efbdb": {
          "model_module": "@jupyter-widgets/base",
          "model_name": "LayoutModel",
          "model_module_version": "1.2.0",
          "state": {
            "_model_module": "@jupyter-widgets/base",
            "_model_module_version": "1.2.0",
            "_model_name": "LayoutModel",
            "_view_count": null,
            "_view_module": "@jupyter-widgets/base",
            "_view_module_version": "1.2.0",
            "_view_name": "LayoutView",
            "align_content": null,
            "align_items": null,
            "align_self": null,
            "border": null,
            "bottom": null,
            "display": null,
            "flex": null,
            "flex_flow": null,
            "grid_area": null,
            "grid_auto_columns": null,
            "grid_auto_flow": null,
            "grid_auto_rows": null,
            "grid_column": null,
            "grid_gap": null,
            "grid_row": null,
            "grid_template_areas": null,
            "grid_template_columns": null,
            "grid_template_rows": null,
            "height": null,
            "justify_content": null,
            "justify_items": null,
            "left": null,
            "margin": null,
            "max_height": null,
            "max_width": null,
            "min_height": null,
            "min_width": null,
            "object_fit": null,
            "object_position": null,
            "order": null,
            "overflow": null,
            "overflow_x": null,
            "overflow_y": null,
            "padding": null,
            "right": null,
            "top": null,
            "visibility": null,
            "width": null
          }
        },
        "fdbc4e876593415a983d4fb7106367a8": {
          "model_module": "@jupyter-widgets/controls",
          "model_name": "ProgressStyleModel",
          "model_module_version": "1.5.0",
          "state": {
            "_model_module": "@jupyter-widgets/controls",
            "_model_module_version": "1.5.0",
            "_model_name": "ProgressStyleModel",
            "_view_count": null,
            "_view_module": "@jupyter-widgets/base",
            "_view_module_version": "1.2.0",
            "_view_name": "StyleView",
            "bar_color": null,
            "description_width": ""
          }
        },
        "7f944a080bf04dd09d516468ee11ca25": {
          "model_module": "@jupyter-widgets/base",
          "model_name": "LayoutModel",
          "model_module_version": "1.2.0",
          "state": {
            "_model_module": "@jupyter-widgets/base",
            "_model_module_version": "1.2.0",
            "_model_name": "LayoutModel",
            "_view_count": null,
            "_view_module": "@jupyter-widgets/base",
            "_view_module_version": "1.2.0",
            "_view_name": "LayoutView",
            "align_content": null,
            "align_items": null,
            "align_self": null,
            "border": null,
            "bottom": null,
            "display": null,
            "flex": null,
            "flex_flow": null,
            "grid_area": null,
            "grid_auto_columns": null,
            "grid_auto_flow": null,
            "grid_auto_rows": null,
            "grid_column": null,
            "grid_gap": null,
            "grid_row": null,
            "grid_template_areas": null,
            "grid_template_columns": null,
            "grid_template_rows": null,
            "height": null,
            "justify_content": null,
            "justify_items": null,
            "left": null,
            "margin": null,
            "max_height": null,
            "max_width": null,
            "min_height": null,
            "min_width": null,
            "object_fit": null,
            "object_position": null,
            "order": null,
            "overflow": null,
            "overflow_x": null,
            "overflow_y": null,
            "padding": null,
            "right": null,
            "top": null,
            "visibility": null,
            "width": null
          }
        },
        "121ffe23dbe14a9083d6be6f10e91247": {
          "model_module": "@jupyter-widgets/controls",
          "model_name": "DescriptionStyleModel",
          "model_module_version": "1.5.0",
          "state": {
            "_model_module": "@jupyter-widgets/controls",
            "_model_module_version": "1.5.0",
            "_model_name": "DescriptionStyleModel",
            "_view_count": null,
            "_view_module": "@jupyter-widgets/base",
            "_view_module_version": "1.2.0",
            "_view_name": "StyleView",
            "description_width": ""
          }
        }
      }
    }
  },
  "nbformat": 4,
  "nbformat_minor": 0
}